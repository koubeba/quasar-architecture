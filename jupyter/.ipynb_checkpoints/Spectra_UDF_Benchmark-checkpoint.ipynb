{
 "cells": [
  {
   "cell_type": "code",
   "execution_count": null,
   "metadata": {
    "ExecuteTime": {
     "start_time": "2020-07-23T16:58:52.177Z"
    }
   },
   "outputs": [],
   "source": [
    "!pip3 install pyarrow==0.17.1\n",
    "!pip3 install pandas==1.0.4\n",
    "!pip3 install numpy==1.18.4"
   ]
  },
  {
   "cell_type": "code",
   "execution_count": 1,
   "metadata": {
    "ExecuteTime": {
     "end_time": "2020-07-24T14:28:08.758151Z",
     "start_time": "2020-07-24T14:28:08.466882Z"
    }
   },
   "outputs": [],
   "source": [
    "from typing import Iterator\n",
    "from pyspark import SparkContext, SQLContext\n",
    "from pyspark.sql import DataFrame\n",
    "\n",
    "from pyspark.sql.types import ArrayType, DoubleType, IntegerType\n",
    "from pyspark.sql.functions import udf, col, pandas_udf, mean as pyspark_mean\n",
    "\n",
    "from pandas import Series\n",
    "\n",
    "import math"
   ]
  },
  {
   "cell_type": "code",
   "execution_count": 2,
   "metadata": {
    "ExecuteTime": {
     "end_time": "2020-07-24T14:28:10.427226Z",
     "start_time": "2020-07-24T14:28:10.422215Z"
    }
   },
   "outputs": [],
   "source": [
    "DATA_PATH: str = '/media/maja/Samsung_T51/quasar'"
   ]
  },
  {
   "cell_type": "code",
   "execution_count": 3,
   "metadata": {
    "ExecuteTime": {
     "end_time": "2020-07-24T14:28:14.392068Z",
     "start_time": "2020-07-24T14:28:10.880632Z"
    }
   },
   "outputs": [],
   "source": [
    "sc: SparkContext = SparkContext(appName='UDF Benchmark')\n",
    "sql: SQLContext = SQLContext(sparkContext=sc)"
   ]
  },
  {
   "cell_type": "code",
   "execution_count": 4,
   "metadata": {
    "ExecuteTime": {
     "end_time": "2020-07-24T14:28:17.184354Z",
     "start_time": "2020-07-24T14:28:14.404468Z"
    }
   },
   "outputs": [],
   "source": [
    "df: DataFrame = sql.read.parquet(f'{DATA_PATH}/spectra-split/spectra-00.parquet')"
   ]
  },
  {
   "cell_type": "code",
   "execution_count": 5,
   "metadata": {
    "ExecuteTime": {
     "end_time": "2020-07-24T14:28:37.100970Z",
     "start_time": "2020-07-24T14:28:36.989753Z"
    }
   },
   "outputs": [],
   "source": [
    "@udf(ArrayType(DoubleType()))\n",
    "def replace_nans(arr: ArrayType(DoubleType())) -> ArrayType(DoubleType()):\n",
    "    return [x if x is not None else 0.0 for x in arr]\n",
    "\n",
    "df: DataFrame = df.withColumn(\"continuum\", replace_nans(df[\"continuum\"].cast(ArrayType(DoubleType())))) \\\n",
    "    .withColumn(\"spectrum\", replace_nans(df[\"spectrum\"].cast(ArrayType(DoubleType()))))"
   ]
  },
  {
   "cell_type": "markdown",
   "metadata": {},
   "source": [
    "# Simple operation"
   ]
  },
  {
   "cell_type": "markdown",
   "metadata": {},
   "source": [
    "## Pyspark UDF"
   ]
  },
  {
   "cell_type": "code",
   "execution_count": null,
   "metadata": {
    "ExecuteTime": {
     "start_time": "2020-07-23T16:51:12.641Z"
    }
   },
   "outputs": [],
   "source": [
    "@udf('double')\n",
    "def add_one_tenth(x: DoubleType()) -> DoubleType():\n",
    "    return x+0.1"
   ]
  },
  {
   "cell_type": "code",
   "execution_count": null,
   "metadata": {
    "ExecuteTime": {
     "start_time": "2020-07-23T16:51:12.644Z"
    },
    "scrolled": true
   },
   "outputs": [],
   "source": [
    "df.select(add_one_tenth(col(\"zerr\"))).show()"
   ]
  },
  {
   "cell_type": "markdown",
   "metadata": {},
   "source": [
    "1.82s, 1.83s, 2.06s, 2.10s, 1.98s, 2.02s"
   ]
  },
  {
   "cell_type": "markdown",
   "metadata": {},
   "source": [
    "## Scala UDF"
   ]
  },
  {
   "cell_type": "markdown",
   "metadata": {},
   "source": [
    "## Pandas UDF"
   ]
  },
  {
   "cell_type": "code",
   "execution_count": 8,
   "metadata": {
    "ExecuteTime": {
     "end_time": "2020-07-23T17:48:08.862997Z",
     "start_time": "2020-07-23T17:48:08.682794Z"
    }
   },
   "outputs": [],
   "source": [
    "@pandas_udf(\"double\")\n",
    "def pandas_add_one_tenth(x: Series) -> Series:\n",
    "    return x+0.1"
   ]
  },
  {
   "cell_type": "code",
   "execution_count": 9,
   "metadata": {
    "ExecuteTime": {
     "end_time": "2020-07-23T17:48:10.233751Z",
     "start_time": "2020-07-23T17:48:09.472822Z"
    }
   },
   "outputs": [
    {
     "name": "stdout",
     "output_type": "stream",
     "text": [
      "+--------------------------+\n",
      "|pandas_add_one_tenth(zerr)|\n",
      "+--------------------------+\n",
      "|       0.10017811526777223|\n",
      "|        0.1006066409405321|\n",
      "|         0.100527334632352|\n",
      "|       0.10050413532881067|\n",
      "|       0.10117024872452021|\n",
      "|        0.1002694987342693|\n",
      "|       0.10058358878595755|\n",
      "|       0.10028059619944543|\n",
      "|       0.10033464186708443|\n",
      "|       0.10006479036528618|\n",
      "|       0.10043243065010757|\n",
      "|       0.10029585268930533|\n",
      "|       0.10046873549581506|\n",
      "|       0.10064944464247674|\n",
      "|       0.10002571633376647|\n",
      "|          418.502587890625|\n",
      "|        0.1006547129014507|\n",
      "|       0.10084083812544123|\n",
      "|       0.10076503457967192|\n",
      "|       0.10123053300194443|\n",
      "+--------------------------+\n",
      "only showing top 20 rows\n",
      "\n"
     ]
    }
   ],
   "source": [
    "df.select(pandas_add_one_tenth(col(\"zerr\"))).show()"
   ]
  },
  {
   "cell_type": "markdown",
   "metadata": {},
   "source": [
    "2.27s, 2.11s, 2.21s"
   ]
  },
  {
   "cell_type": "markdown",
   "metadata": {},
   "source": [
    "# Complex operation"
   ]
  },
  {
   "cell_type": "code",
   "execution_count": 6,
   "metadata": {
    "ExecuteTime": {
     "end_time": "2020-07-24T14:28:43.470982Z",
     "start_time": "2020-07-24T14:28:43.463392Z"
    }
   },
   "outputs": [],
   "source": [
    "import statistics"
   ]
  },
  {
   "cell_type": "markdown",
   "metadata": {},
   "source": [
    "## PySpark UDF"
   ]
  },
  {
   "cell_type": "code",
   "execution_count": 17,
   "metadata": {
    "ExecuteTime": {
     "end_time": "2020-07-24T14:34:11.684539Z",
     "start_time": "2020-07-24T14:34:11.676829Z"
    }
   },
   "outputs": [],
   "source": [
    "@udf(ArrayType(DoubleType()))\n",
    "def udf_mean(ax: ArrayType(DoubleType())) -> ArrayType(DoubleType()):\n",
    "    mn = statistics.mean(ax)\n",
    "    return [y-mn for y in ax]"
   ]
  },
  {
   "cell_type": "code",
   "execution_count": 18,
   "metadata": {
    "ExecuteTime": {
     "end_time": "2020-07-24T14:34:12.893742Z",
     "start_time": "2020-07-24T14:34:11.957956Z"
    },
    "scrolled": true
   },
   "outputs": [
    {
     "name": "stdout",
     "output_type": "stream",
     "text": [
      "+--------------------+\n",
      "| udf_mean(continuum)|\n",
      "+--------------------+\n",
      "|[2.79667835243599...|\n",
      "|[5.47788933854912...|\n",
      "|[1.40903803289305...|\n",
      "|[2.78555591488440...|\n",
      "|[2.60475770446768...|\n",
      "|[2.13302572664774...|\n",
      "|[3.89495111345354...|\n",
      "|[1.36330158011475...|\n",
      "|[2.21373749174633...|\n",
      "|[-4.4439965138789...|\n",
      "|[2.90998045899855...|\n",
      "|[-1.8891068039334...|\n",
      "|[3.67987040756589...|\n",
      "|[1.11581323916359...|\n",
      "|[-2.1260869299019...|\n",
      "|[7.77628477482626...|\n",
      "|[3.16409160196432...|\n",
      "|[1.61474805027984...|\n",
      "|[3.40600726473766...|\n",
      "|[1.10089945855926...|\n",
      "+--------------------+\n",
      "only showing top 20 rows\n",
      "\n"
     ]
    }
   ],
   "source": [
    "df.select(udf_mean(col(\"continuum\"))).show()"
   ]
  },
  {
   "cell_type": "markdown",
   "metadata": {},
   "source": [
    "1.73s, 1.69s, 2.71s, 1.70s, 2.64s"
   ]
  },
  {
   "cell_type": "markdown",
   "metadata": {},
   "source": [
    "## Pandas UDF"
   ]
  },
  {
   "cell_type": "code",
   "execution_count": 30,
   "metadata": {
    "ExecuteTime": {
     "end_time": "2020-07-24T14:47:42.625130Z",
     "start_time": "2020-07-24T14:47:42.619277Z"
    }
   },
   "outputs": [],
   "source": [
    "@pandas_udf(ArrayType(DoubleType()))\n",
    "def pandas_mean(iterator: Series) -> Series:\n",
    "    def subtract_mean(x):\n",
    "        mn = statistics.mean(x)\n",
    "        return [y-mn for y in x]\n",
    "    return iterator.apply(subtract_mean)"
   ]
  },
  {
   "cell_type": "code",
   "execution_count": 31,
   "metadata": {
    "ExecuteTime": {
     "end_time": "2020-07-24T14:47:51.609141Z",
     "start_time": "2020-07-24T14:47:42.893559Z"
    }
   },
   "outputs": [
    {
     "name": "stdout",
     "output_type": "stream",
     "text": [
      "+----------------------+\n",
      "|pandas_mean(continuum)|\n",
      "+----------------------+\n",
      "|  [2.79667835243599...|\n",
      "|  [5.47788933854912...|\n",
      "|  [1.40903803289305...|\n",
      "|  [2.78555591488440...|\n",
      "|  [2.60475770446768...|\n",
      "|  [2.13302572664774...|\n",
      "|  [3.89495111345354...|\n",
      "|  [1.36330158011475...|\n",
      "|  [2.21373749174633...|\n",
      "|  [-4.4439965138789...|\n",
      "|  [2.90998045899855...|\n",
      "|  [-1.8891068039334...|\n",
      "|  [3.67987040756589...|\n",
      "|  [1.11581323916359...|\n",
      "|  [-2.1260869299019...|\n",
      "|  [7.77628477482626...|\n",
      "|  [3.16409160196432...|\n",
      "|  [1.61474805027984...|\n",
      "|  [3.40600726473766...|\n",
      "|  [1.10089945855926...|\n",
      "+----------------------+\n",
      "only showing top 20 rows\n",
      "\n"
     ]
    }
   ],
   "source": [
    "df.select(pandas_mean(col(\"continuum\"))).show()"
   ]
  },
  {
   "cell_type": "markdown",
   "metadata": {},
   "source": [
    "9.20s, 8.00s, 7.54s, 7.10s, 10.1s"
   ]
  },
  {
   "cell_type": "markdown",
   "metadata": {},
   "source": [
    "# Operation over a row"
   ]
  },
  {
   "cell_type": "markdown",
   "metadata": {},
   "source": [
    "## Pyspark UDF"
   ]
  },
  {
   "cell_type": "code",
   "execution_count": 10,
   "metadata": {
    "ExecuteTime": {
     "end_time": "2020-07-23T17:33:46.123765Z",
     "start_time": "2020-07-23T17:33:46.117994Z"
    }
   },
   "outputs": [],
   "source": [
    "@udf(DoubleType())\n",
    "def udf_column_mean(x: DoubleType(), y: DoubleType()) -> DoubleType():\n",
    "    return x*y"
   ]
  },
  {
   "cell_type": "code",
   "execution_count": 15,
   "metadata": {
    "ExecuteTime": {
     "end_time": "2020-07-23T17:38:17.847680Z",
     "start_time": "2020-07-23T17:38:17.792372Z"
    }
   },
   "outputs": [
    {
     "ename": "AnalysisException",
     "evalue": "grouping expressions sequence is empty, and '`z`' is not an aggregate function. Wrap '(udf_column_mean(z, avg(z)) AS `udf_column_mean(z, avg(z))`)' in windowing function(s) or wrap '`z`' in first() (or first_value) if you don't care which value you get.;;\nAggregate [udf_column_mean(z#14, avg(z#14)) AS udf_column_mean(z, avg(z))#85]\n+- Project [_corrupt_record#0, _id#1, continuum#33, dec#3, fiber#4L, mjd#5L, name#6, plate#7L, ra#8, size#9L, spectraSetOID#10, replace_nans(cast(spectrum#11 as array<double>)) AS spectrum#51, subtype#12, type#13, z#14, zerr#15]\n   +- Project [_corrupt_record#0, _id#1, replace_nans(cast(continuum#2 as array<double>)) AS continuum#33, dec#3, fiber#4L, mjd#5L, name#6, plate#7L, ra#8, size#9L, spectraSetOID#10, spectrum#11, subtype#12, type#13, z#14, zerr#15]\n      +- Relation[_corrupt_record#0,_id#1,continuum#2,dec#3,fiber#4L,mjd#5L,name#6,plate#7L,ra#8,size#9L,spectraSetOID#10,spectrum#11,subtype#12,type#13,z#14,zerr#15] parquet\n",
     "output_type": "error",
     "traceback": [
      "\u001b[0;31m---------------------------------------------------------------------------\u001b[0m",
      "\u001b[0;31mAnalysisException\u001b[0m                         Traceback (most recent call last)",
      "\u001b[0;32m<ipython-input-15-9be7a3218299>\u001b[0m in \u001b[0;36m<module>\u001b[0;34m\u001b[0m\n\u001b[0;32m----> 1\u001b[0;31m \u001b[0mdf\u001b[0m\u001b[0;34m.\u001b[0m\u001b[0mselect\u001b[0m\u001b[0;34m(\u001b[0m\u001b[0mudf_column_mean\u001b[0m\u001b[0;34m(\u001b[0m\u001b[0mcol\u001b[0m\u001b[0;34m(\u001b[0m\u001b[0;34m\"z\"\u001b[0m\u001b[0;34m)\u001b[0m\u001b[0;34m,\u001b[0m \u001b[0mpyspark_mean\u001b[0m\u001b[0;34m(\u001b[0m\u001b[0mcol\u001b[0m\u001b[0;34m(\u001b[0m\u001b[0;34m\"z\"\u001b[0m\u001b[0;34m)\u001b[0m\u001b[0;34m)\u001b[0m\u001b[0;34m)\u001b[0m\u001b[0;34m)\u001b[0m\u001b[0;34m.\u001b[0m\u001b[0mshow\u001b[0m\u001b[0;34m(\u001b[0m\u001b[0;34m)\u001b[0m\u001b[0;34m\u001b[0m\u001b[0;34m\u001b[0m\u001b[0m\n\u001b[0m",
      "\u001b[0;32m~/.local/lib/python3.6/site-packages/pyspark/sql/dataframe.py\u001b[0m in \u001b[0;36mselect\u001b[0;34m(self, *cols)\u001b[0m\n\u001b[1;32m   1419\u001b[0m         \u001b[0;34m[\u001b[0m\u001b[0mRow\u001b[0m\u001b[0;34m(\u001b[0m\u001b[0mname\u001b[0m\u001b[0;34m=\u001b[0m\u001b[0;34mu'Alice'\u001b[0m\u001b[0;34m,\u001b[0m \u001b[0mage\u001b[0m\u001b[0;34m=\u001b[0m\u001b[0;36m12\u001b[0m\u001b[0;34m)\u001b[0m\u001b[0;34m,\u001b[0m \u001b[0mRow\u001b[0m\u001b[0;34m(\u001b[0m\u001b[0mname\u001b[0m\u001b[0;34m=\u001b[0m\u001b[0;34mu'Bob'\u001b[0m\u001b[0;34m,\u001b[0m \u001b[0mage\u001b[0m\u001b[0;34m=\u001b[0m\u001b[0;36m15\u001b[0m\u001b[0;34m)\u001b[0m\u001b[0;34m]\u001b[0m\u001b[0;34m\u001b[0m\u001b[0;34m\u001b[0m\u001b[0m\n\u001b[1;32m   1420\u001b[0m         \"\"\"\n\u001b[0;32m-> 1421\u001b[0;31m         \u001b[0mjdf\u001b[0m \u001b[0;34m=\u001b[0m \u001b[0mself\u001b[0m\u001b[0;34m.\u001b[0m\u001b[0m_jdf\u001b[0m\u001b[0;34m.\u001b[0m\u001b[0mselect\u001b[0m\u001b[0;34m(\u001b[0m\u001b[0mself\u001b[0m\u001b[0;34m.\u001b[0m\u001b[0m_jcols\u001b[0m\u001b[0;34m(\u001b[0m\u001b[0;34m*\u001b[0m\u001b[0mcols\u001b[0m\u001b[0;34m)\u001b[0m\u001b[0;34m)\u001b[0m\u001b[0;34m\u001b[0m\u001b[0;34m\u001b[0m\u001b[0m\n\u001b[0m\u001b[1;32m   1422\u001b[0m         \u001b[0;32mreturn\u001b[0m \u001b[0mDataFrame\u001b[0m\u001b[0;34m(\u001b[0m\u001b[0mjdf\u001b[0m\u001b[0;34m,\u001b[0m \u001b[0mself\u001b[0m\u001b[0;34m.\u001b[0m\u001b[0msql_ctx\u001b[0m\u001b[0;34m)\u001b[0m\u001b[0;34m\u001b[0m\u001b[0;34m\u001b[0m\u001b[0m\n\u001b[1;32m   1423\u001b[0m \u001b[0;34m\u001b[0m\u001b[0m\n",
      "\u001b[0;32m~/.local/lib/python3.6/site-packages/py4j/java_gateway.py\u001b[0m in \u001b[0;36m__call__\u001b[0;34m(self, *args)\u001b[0m\n\u001b[1;32m   1303\u001b[0m         \u001b[0manswer\u001b[0m \u001b[0;34m=\u001b[0m \u001b[0mself\u001b[0m\u001b[0;34m.\u001b[0m\u001b[0mgateway_client\u001b[0m\u001b[0;34m.\u001b[0m\u001b[0msend_command\u001b[0m\u001b[0;34m(\u001b[0m\u001b[0mcommand\u001b[0m\u001b[0;34m)\u001b[0m\u001b[0;34m\u001b[0m\u001b[0;34m\u001b[0m\u001b[0m\n\u001b[1;32m   1304\u001b[0m         return_value = get_return_value(\n\u001b[0;32m-> 1305\u001b[0;31m             answer, self.gateway_client, self.target_id, self.name)\n\u001b[0m\u001b[1;32m   1306\u001b[0m \u001b[0;34m\u001b[0m\u001b[0m\n\u001b[1;32m   1307\u001b[0m         \u001b[0;32mfor\u001b[0m \u001b[0mtemp_arg\u001b[0m \u001b[0;32min\u001b[0m \u001b[0mtemp_args\u001b[0m\u001b[0;34m:\u001b[0m\u001b[0;34m\u001b[0m\u001b[0;34m\u001b[0m\u001b[0m\n",
      "\u001b[0;32m~/.local/lib/python3.6/site-packages/pyspark/sql/utils.py\u001b[0m in \u001b[0;36mdeco\u001b[0;34m(*a, **kw)\u001b[0m\n\u001b[1;32m    135\u001b[0m                 \u001b[0;31m# Hide where the exception came from that shows a non-Pythonic\u001b[0m\u001b[0;34m\u001b[0m\u001b[0;34m\u001b[0m\u001b[0;34m\u001b[0m\u001b[0m\n\u001b[1;32m    136\u001b[0m                 \u001b[0;31m# JVM exception message.\u001b[0m\u001b[0;34m\u001b[0m\u001b[0;34m\u001b[0m\u001b[0;34m\u001b[0m\u001b[0m\n\u001b[0;32m--> 137\u001b[0;31m                 \u001b[0mraise_from\u001b[0m\u001b[0;34m(\u001b[0m\u001b[0mconverted\u001b[0m\u001b[0;34m)\u001b[0m\u001b[0;34m\u001b[0m\u001b[0;34m\u001b[0m\u001b[0m\n\u001b[0m\u001b[1;32m    138\u001b[0m             \u001b[0;32melse\u001b[0m\u001b[0;34m:\u001b[0m\u001b[0;34m\u001b[0m\u001b[0;34m\u001b[0m\u001b[0m\n\u001b[1;32m    139\u001b[0m                 \u001b[0;32mraise\u001b[0m\u001b[0;34m\u001b[0m\u001b[0;34m\u001b[0m\u001b[0m\n",
      "\u001b[0;32m~/.local/lib/python3.6/site-packages/pyspark/sql/utils.py\u001b[0m in \u001b[0;36mraise_from\u001b[0;34m(e)\u001b[0m\n",
      "\u001b[0;31mAnalysisException\u001b[0m: grouping expressions sequence is empty, and '`z`' is not an aggregate function. Wrap '(udf_column_mean(z, avg(z)) AS `udf_column_mean(z, avg(z))`)' in windowing function(s) or wrap '`z`' in first() (or first_value) if you don't care which value you get.;;\nAggregate [udf_column_mean(z#14, avg(z#14)) AS udf_column_mean(z, avg(z))#85]\n+- Project [_corrupt_record#0, _id#1, continuum#33, dec#3, fiber#4L, mjd#5L, name#6, plate#7L, ra#8, size#9L, spectraSetOID#10, replace_nans(cast(spectrum#11 as array<double>)) AS spectrum#51, subtype#12, type#13, z#14, zerr#15]\n   +- Project [_corrupt_record#0, _id#1, replace_nans(cast(continuum#2 as array<double>)) AS continuum#33, dec#3, fiber#4L, mjd#5L, name#6, plate#7L, ra#8, size#9L, spectraSetOID#10, spectrum#11, subtype#12, type#13, z#14, zerr#15]\n      +- Relation[_corrupt_record#0,_id#1,continuum#2,dec#3,fiber#4L,mjd#5L,name#6,plate#7L,ra#8,size#9L,spectraSetOID#10,spectrum#11,subtype#12,type#13,z#14,zerr#15] parquet\n"
     ]
    }
   ],
   "source": [
    "df.select(udf_column_mean(col(\"z\"), pyspark_mean(col(\"z\")))).show()"
   ]
  },
  {
   "cell_type": "code",
   "execution_count": null,
   "metadata": {
    "ExecuteTime": {
     "start_time": "2020-07-23T16:51:12.790Z"
    }
   },
   "outputs": [],
   "source": [
    "sc.stop()"
   ]
  },
  {
   "cell_type": "code",
   "execution_count": null,
   "metadata": {},
   "outputs": [],
   "source": []
  },
  {
   "cell_type": "code",
   "execution_count": null,
   "metadata": {},
   "outputs": [],
   "source": []
  }
 ],
 "metadata": {
  "kernelspec": {
   "display_name": "Python 3.6.9 64-bit",
   "language": "python",
   "name": "python36964bit81049dc5967842d19da6a552fb13b6ce"
  },
  "language_info": {
   "codemirror_mode": {
    "name": "ipython",
    "version": 3
   },
   "file_extension": ".py",
   "mimetype": "text/x-python",
   "name": "python",
   "nbconvert_exporter": "python",
   "pygments_lexer": "ipython3",
   "version": "3.6.9"
  },
  "latex_envs": {
   "LaTeX_envs_menu_present": true,
   "autoclose": false,
   "autocomplete": true,
   "bibliofile": "biblio.bib",
   "cite_by": "apalike",
   "current_citInitial": 1,
   "eqLabelWithNumbers": true,
   "eqNumInitial": 1,
   "hotkeys": {
    "equation": "Ctrl-E",
    "itemize": "Ctrl-I"
   },
   "labels_anchors": false,
   "latex_user_defs": false,
   "report_style_numbering": false,
   "user_envs_cfg": false
  },
  "toc": {
   "base_numbering": 1,
   "nav_menu": {},
   "number_sections": true,
   "sideBar": true,
   "skip_h1_title": false,
   "title_cell": "Table of Contents",
   "title_sidebar": "Contents",
   "toc_cell": false,
   "toc_position": {},
   "toc_section_display": true,
   "toc_window_display": false
  },
  "varInspector": {
   "cols": {
    "lenName": 16,
    "lenType": 16,
    "lenVar": 40
   },
   "kernels_config": {
    "python": {
     "delete_cmd_postfix": "",
     "delete_cmd_prefix": "del ",
     "library": "var_list.py",
     "varRefreshCmd": "print(var_dic_list())"
    },
    "r": {
     "delete_cmd_postfix": ") ",
     "delete_cmd_prefix": "rm(",
     "library": "var_list.r",
     "varRefreshCmd": "cat(var_dic_list()) "
    }
   },
   "types_to_exclude": [
    "module",
    "function",
    "builtin_function_or_method",
    "instance",
    "_Feature"
   ],
   "window_display": false
  }
 },
 "nbformat": 4,
 "nbformat_minor": 4
}
