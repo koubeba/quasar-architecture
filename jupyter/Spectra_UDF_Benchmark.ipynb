{
 "cells": [
  {
   "cell_type": "code",
   "execution_count": 1,
   "metadata": {
    "ExecuteTime": {
     "end_time": "2020-07-26T10:23:19.475291Z",
     "start_time": "2020-07-26T10:23:18.904828Z"
    }
   },
   "outputs": [],
   "source": [
    "from typing import Iterator\n",
    "from pyspark.sql import SparkSession, DataFrame\n",
    "\n",
    "from pyspark.sql.types import ArrayType, DoubleType, IntegerType, StringType\n",
    "from pyspark.sql.functions import udf, col, pandas_udf, mean as pyspark_mean, PandasUDFType, countDistinct\n",
    "\n",
    "import math\n",
    "import pandas as pd\n",
    "import databricks.koalas as ks\n",
    "from pyarrow.parquet import ParquetDataset\n",
    "\n",
    "import time"
   ]
  },
  {
   "cell_type": "code",
   "execution_count": 2,
   "metadata": {
    "ExecuteTime": {
     "end_time": "2020-07-26T10:23:25.444972Z",
     "start_time": "2020-07-26T10:23:25.441751Z"
    }
   },
   "outputs": [],
   "source": [
    "DATA_PATH: str = '/media/maja/Samsung_T51/quasar'"
   ]
  },
  {
   "cell_type": "code",
   "execution_count": 3,
   "metadata": {
    "ExecuteTime": {
     "end_time": "2020-07-26T10:23:33.425944Z",
     "start_time": "2020-07-26T10:23:29.550161Z"
    }
   },
   "outputs": [],
   "source": [
    "spark = SparkSession.builder \\\n",
    "    .master(\"local\") \\\n",
    "    .appName(\"UDF_Benchmark\") \\\n",
    "    .config(\"spark.rdd.compress\", True) \\\n",
    "    .config(\"spark.sql.execution.arrow.pyspark.enabled\", True) \\\n",
    "    .config(\"spark.sql.parquet.enableVectorizedReader\", True) \\\n",
    "    .config(\"spark.sql.execution.arrow.maxRecordsPerBatch\", 10000) \\\n",
    "    .getOrCreate()"
   ]
  },
  {
   "cell_type": "code",
   "execution_count": 52,
   "metadata": {
    "ExecuteTime": {
     "end_time": "2020-07-26T10:39:09.317540Z",
     "start_time": "2020-07-26T10:39:08.940953Z"
    }
   },
   "outputs": [],
   "source": [
    "df = spark.read.parquet(f'{DATA_PATH}/spectra.parquet', mergeSchema=True)\n",
    "df_csv = spark.read.csv(f'{DATA_PATH}/spectra-sample.csv').cache()"
   ]
  },
  {
   "cell_type": "code",
   "execution_count": 19,
   "metadata": {
    "ExecuteTime": {
     "end_time": "2020-07-26T10:28:31.974376Z",
     "start_time": "2020-07-26T10:28:31.962924Z"
    }
   },
   "outputs": [],
   "source": [
    "df = df.filter(df['_corrupt_record'].isNull())"
   ]
  },
  {
   "cell_type": "code",
   "execution_count": 53,
   "metadata": {
    "ExecuteTime": {
     "end_time": "2020-07-26T10:39:12.884577Z",
     "start_time": "2020-07-26T10:39:12.840311Z"
    }
   },
   "outputs": [],
   "source": [
    "@udf(ArrayType(DoubleType()))\n",
    "def replace_nans(arr: ArrayType(DoubleType())) -> ArrayType(DoubleType()):\n",
    "    return [x if x is not None else 0.0 for x in arr]\n",
    "\n",
    "df: DataFrame = df.withColumn(\"continuum\", replace_nans(df[\"continuum\"].cast(ArrayType(DoubleType())))) \\\n",
    "    .withColumn(\"spectrum\", replace_nans(df[\"spectrum\"].cast(ArrayType(DoubleType()))))"
   ]
  },
  {
   "cell_type": "code",
   "execution_count": 17,
   "metadata": {
    "ExecuteTime": {
     "end_time": "2020-07-26T10:26:45.381859Z",
     "start_time": "2020-07-26T10:26:40.508464Z"
    }
   },
   "outputs": [],
   "source": [
    "df.select(['dec', 'fiber', 'mjd', 'plate', 'ra', 'size', 'z']).limit(100000).write.option(\"header\", \"true\").csv(f'{DATA_PATH}/spectra-sample.csv')"
   ]
  },
  {
   "cell_type": "code",
   "execution_count": 55,
   "metadata": {
    "ExecuteTime": {
     "end_time": "2020-07-26T10:39:20.560205Z",
     "start_time": "2020-07-26T10:39:20.517805Z"
    }
   },
   "outputs": [
    {
     "data": {
      "text/plain": [
       "Row(_c0='dec', _c1='fiber', _c2='mjd', _c3='plate', _c4='ra', _c5='size', _c6='z')"
      ]
     },
     "execution_count": 55,
     "metadata": {},
     "output_type": "execute_result"
    }
   ],
   "source": [
    "df_csv.head()"
   ]
  },
  {
   "cell_type": "code",
   "execution_count": 56,
   "metadata": {
    "ExecuteTime": {
     "end_time": "2020-07-26T10:39:44.213377Z",
     "start_time": "2020-07-26T10:39:44.193891Z"
    }
   },
   "outputs": [],
   "source": [
    "df_csv = df_csv.select(col('_c2').cast(DoubleType()).alias('mjd'), \n",
    "                       col('_c6').cast(DoubleType()).alias('z'))"
   ]
  },
  {
   "cell_type": "code",
   "execution_count": 57,
   "metadata": {
    "ExecuteTime": {
     "end_time": "2020-07-26T10:39:46.138969Z",
     "start_time": "2020-07-26T10:39:45.890529Z"
    }
   },
   "outputs": [
    {
     "data": {
      "text/plain": [
       "99996"
      ]
     },
     "execution_count": 57,
     "metadata": {},
     "output_type": "execute_result"
    }
   ],
   "source": [
    "df_csv = df_csv.dropna()\n",
    "df_csv.count()"
   ]
  },
  {
   "cell_type": "markdown",
   "metadata": {},
   "source": [
    "# Simple operation"
   ]
  },
  {
   "cell_type": "markdown",
   "metadata": {},
   "source": [
    "## Pyspark UDF"
   ]
  },
  {
   "cell_type": "code",
   "execution_count": 22,
   "metadata": {
    "ExecuteTime": {
     "end_time": "2020-07-26T10:28:46.375640Z",
     "start_time": "2020-07-26T10:28:46.346185Z"
    }
   },
   "outputs": [],
   "source": [
    "@udf('double')\n",
    "def add_one_tenth(x):\n",
    "    return x+0.1"
   ]
  },
  {
   "cell_type": "code",
   "execution_count": 36,
   "metadata": {
    "ExecuteTime": {
     "end_time": "2020-07-26T10:35:43.389061Z",
     "start_time": "2020-07-26T10:35:43.263888Z"
    },
    "scrolled": true
   },
   "outputs": [
    {
     "name": "stdout",
     "output_type": "stream",
     "text": [
      "+------------------+\n",
      "|  add_one_tenth(z)|\n",
      "+------------------+\n",
      "|2.8785515785217286|\n",
      "|2.8372965812683106|\n",
      "|0.6703451037406921|\n",
      "| 2.435253953933716|\n",
      "|0.8849816679954529|\n",
      "|0.7128542423248291|\n",
      "| 2.975859498977661|\n",
      "| 0.709883964061737|\n",
      "| 2.485312557220459|\n",
      "| 4.079956865310669|\n",
      "| 2.336691474914551|\n",
      "| 3.592419719696045|\n",
      "|3.1562567710876466|\n",
      "|2.1594024658203126|\n",
      "|0.8447280287742615|\n",
      "|2.1348730087280274|\n",
      "|2.8504024505615235|\n",
      "| 2.392560338973999|\n",
      "|0.7440633535385132|\n",
      "|0.8248033285140991|\n",
      "+------------------+\n",
      "only showing top 20 rows\n",
      "\n",
      "Time PySpark UDF: 0.12053942680358887\n"
     ]
    }
   ],
   "source": [
    "startudf = time.time()\n",
    "df.select(add_one_tenth(col(\"z\"))).show()\n",
    "endudf = time.time()\n",
    "print(f'Time PySpark UDF: {endudf-startudf}')"
   ]
  },
  {
   "cell_type": "code",
   "execution_count": 37,
   "metadata": {
    "ExecuteTime": {
     "end_time": "2020-07-26T10:35:45.883437Z",
     "start_time": "2020-07-26T10:35:45.748867Z"
    }
   },
   "outputs": [
    {
     "name": "stdout",
     "output_type": "stream",
     "text": [
      "+------------------+\n",
      "|  add_one_tenth(z)|\n",
      "+------------------+\n",
      "|2.8785515785217286|\n",
      "|2.8372965812683106|\n",
      "|0.6703451037406921|\n",
      "| 2.435253953933716|\n",
      "|0.8849816679954529|\n",
      "|0.7128542423248291|\n",
      "| 2.975859498977661|\n",
      "| 0.709883964061737|\n",
      "| 2.485312557220459|\n",
      "| 4.079956865310669|\n",
      "| 2.336691474914551|\n",
      "| 3.592419719696045|\n",
      "|3.1562567710876466|\n",
      "|2.1594024658203126|\n",
      "|0.8447280287742615|\n",
      "|2.1348730087280274|\n",
      "|2.8504024505615235|\n",
      "| 2.392560338973999|\n",
      "|0.7440633535385132|\n",
      "|0.8248033285140991|\n",
      "+------------------+\n",
      "only showing top 20 rows\n",
      "\n",
      "Time PySpark UDF for CSV: 0.12468457221984863\n"
     ]
    }
   ],
   "source": [
    "startudf = time.time()\n",
    "df_csv.select(add_one_tenth(col('z'))).show()\n",
    "endudf = time.time()\n",
    "print(f'Time PySpark UDF for CSV: {endudf-startudf}')"
   ]
  },
  {
   "cell_type": "code",
   "execution_count": 40,
   "metadata": {
    "ExecuteTime": {
     "end_time": "2020-07-26T10:36:18.330005Z",
     "start_time": "2020-07-26T10:36:18.284273Z"
    },
    "scrolled": true
   },
   "outputs": [
    {
     "name": "stdout",
     "output_type": "stream",
     "text": [
      "== Physical Plan ==\n",
      "*(2) Project [pythonUDF0#1870 AS add_one_tenth(z)#1868]\n",
      "+- BatchEvalPython [add_one_tenth(z#626)], [pythonUDF0#1870]\n",
      "   +- *(1) Project [z#626]\n",
      "      +- *(1) Filter isnull(_corrupt_record#612)\n",
      "         +- *(1) ColumnarToRow\n",
      "            +- FileScan parquet [_corrupt_record#612,z#626] Batched: true, DataFilters: [isnull(_corrupt_record#612)], Format: Parquet, Location: InMemoryFileIndex[file:/media/maja/Samsung_T51/quasar/spectra.parquet], PartitionFilters: [], PushedFilters: [IsNull(_corrupt_record)], ReadSchema: struct<_corrupt_record:string,z:double>\n",
      "\n",
      "\n"
     ]
    }
   ],
   "source": [
    "df.select(add_one_tenth(col(\"z\"))).explain()"
   ]
  },
  {
   "cell_type": "code",
   "execution_count": 41,
   "metadata": {
    "ExecuteTime": {
     "end_time": "2020-07-26T10:36:29.921780Z",
     "start_time": "2020-07-26T10:36:29.878121Z"
    }
   },
   "outputs": [
    {
     "name": "stdout",
     "output_type": "stream",
     "text": [
      "== Physical Plan ==\n",
      "*(2) Project [pythonUDF0#1944 AS add_one_tenth(z)#1872]\n",
      "+- BatchEvalPython [add_one_tenth(cast(_c6#666 as double))], [pythonUDF0#1944]\n",
      "   +- *(1) Filter AtLeastNNulls(n, cast(_c6#666 as double))\n",
      "      +- InMemoryTableScan [_c6#666], [AtLeastNNulls(n, cast(_c6#666 as double))]\n",
      "            +- InMemoryRelation [_c0#660, _c1#661, _c2#662, _c3#663, _c4#664, _c5#665, _c6#666], StorageLevel(disk, memory, deserialized, 1 replicas)\n",
      "                  +- FileScan csv [_c0#130,_c1#131,_c2#132,_c3#133,_c4#134,_c5#135,_c6#136] Batched: false, DataFilters: [], Format: CSV, Location: InMemoryFileIndex[file:/media/maja/Samsung_T51/quasar/spectra-sample.csv], PartitionFilters: [], PushedFilters: [], ReadSchema: struct<_c0:string,_c1:string,_c2:string,_c3:string,_c4:string,_c5:string,_c6:string>\n",
      "\n",
      "\n"
     ]
    }
   ],
   "source": [
    "df_csv.select(add_one_tenth(col(\"z\"))).explain()"
   ]
  },
  {
   "cell_type": "markdown",
   "metadata": {},
   "source": [
    "105ms, 114ms, 106ms, 105ms, 97ms"
   ]
  },
  {
   "cell_type": "markdown",
   "metadata": {},
   "source": [
    "## Scala UDF"
   ]
  },
  {
   "cell_type": "markdown",
   "metadata": {},
   "source": [
    "## Pandas UDF"
   ]
  },
  {
   "cell_type": "code",
   "execution_count": 42,
   "metadata": {
    "ExecuteTime": {
     "end_time": "2020-07-26T10:37:00.730471Z",
     "start_time": "2020-07-26T10:37:00.713367Z"
    }
   },
   "outputs": [],
   "source": [
    "@pandas_udf('double')\n",
    "def pandas_add_one_tenth(x: pd.Series) -> pd.Series:\n",
    "    return x+0.1"
   ]
  },
  {
   "cell_type": "code",
   "execution_count": 44,
   "metadata": {
    "ExecuteTime": {
     "end_time": "2020-07-26T10:37:12.076283Z",
     "start_time": "2020-07-26T10:37:11.701552Z"
    }
   },
   "outputs": [
    {
     "name": "stdout",
     "output_type": "stream",
     "text": [
      "+-----------------------+\n",
      "|pandas_add_one_tenth(z)|\n",
      "+-----------------------+\n",
      "|     2.8785515785217286|\n",
      "|     2.8372965812683106|\n",
      "|     0.6703451037406921|\n",
      "|      2.435253953933716|\n",
      "|     0.8849816679954529|\n",
      "|     0.7128542423248291|\n",
      "|      2.975859498977661|\n",
      "|      0.709883964061737|\n",
      "|      2.485312557220459|\n",
      "|      4.079956865310669|\n",
      "|      2.336691474914551|\n",
      "|      3.592419719696045|\n",
      "|     3.1562567710876466|\n",
      "|     2.1594024658203126|\n",
      "|     0.8447280287742615|\n",
      "|     2.1348730087280274|\n",
      "|     2.8504024505615235|\n",
      "|      2.392560338973999|\n",
      "|     0.7440633535385132|\n",
      "|     0.8248033285140991|\n",
      "+-----------------------+\n",
      "only showing top 20 rows\n",
      "\n",
      "Time Pandas UDF: 0.36875438690185547\n"
     ]
    }
   ],
   "source": [
    "startpandasudf = time.time()\n",
    "df.select(pandas_add_one_tenth(col(\"z\"))).show()\n",
    "endpandasudf = time.time()\n",
    "print(f'Time Pandas UDF: {endpandasudf-startpandasudf}')"
   ]
  },
  {
   "cell_type": "code",
   "execution_count": 45,
   "metadata": {
    "ExecuteTime": {
     "end_time": "2020-07-26T10:37:22.229441Z",
     "start_time": "2020-07-26T10:37:22.167664Z"
    }
   },
   "outputs": [
    {
     "name": "stdout",
     "output_type": "stream",
     "text": [
      "== Physical Plan ==\n",
      "*(2) Project [pythonUDF0#2001 AS pandas_add_one_tenth(z)#1999]\n",
      "+- ArrowEvalPython [pandas_add_one_tenth(z#626)], [pythonUDF0#2001], 200\n",
      "   +- *(1) Project [z#626]\n",
      "      +- *(1) Filter isnull(_corrupt_record#612)\n",
      "         +- *(1) ColumnarToRow\n",
      "            +- FileScan parquet [_corrupt_record#612,z#626] Batched: true, DataFilters: [isnull(_corrupt_record#612)], Format: Parquet, Location: InMemoryFileIndex[file:/media/maja/Samsung_T51/quasar/spectra.parquet], PartitionFilters: [], PushedFilters: [IsNull(_corrupt_record)], ReadSchema: struct<_corrupt_record:string,z:double>\n",
      "\n",
      "\n"
     ]
    }
   ],
   "source": [
    "df.select(pandas_add_one_tenth(col(\"z\"))).explain()"
   ]
  },
  {
   "cell_type": "code",
   "execution_count": 46,
   "metadata": {
    "ExecuteTime": {
     "end_time": "2020-07-26T10:37:36.896737Z",
     "start_time": "2020-07-26T10:37:36.543113Z"
    }
   },
   "outputs": [
    {
     "name": "stdout",
     "output_type": "stream",
     "text": [
      "+-----------------------+\n",
      "|pandas_add_one_tenth(z)|\n",
      "+-----------------------+\n",
      "|     2.8785515785217286|\n",
      "|     2.8372965812683106|\n",
      "|     0.6703451037406921|\n",
      "|      2.435253953933716|\n",
      "|     0.8849816679954529|\n",
      "|     0.7128542423248291|\n",
      "|      2.975859498977661|\n",
      "|      0.709883964061737|\n",
      "|      2.485312557220459|\n",
      "|      4.079956865310669|\n",
      "|      2.336691474914551|\n",
      "|      3.592419719696045|\n",
      "|     3.1562567710876466|\n",
      "|     2.1594024658203126|\n",
      "|     0.8447280287742615|\n",
      "|     2.1348730087280274|\n",
      "|     2.8504024505615235|\n",
      "|      2.392560338973999|\n",
      "|     0.7440633535385132|\n",
      "|     0.8248033285140991|\n",
      "+-----------------------+\n",
      "only showing top 20 rows\n",
      "\n",
      "Time Pandas UDF: 0.34230995178222656\n"
     ]
    }
   ],
   "source": [
    "startpandasudf = time.time()\n",
    "df_csv.select(pandas_add_one_tenth(col(\"z\"))).show()\n",
    "endpandasudf = time.time()\n",
    "print(f'Time Pandas UDF: {endpandasudf-startpandasudf}')"
   ]
  },
  {
   "cell_type": "code",
   "execution_count": 47,
   "metadata": {
    "ExecuteTime": {
     "end_time": "2020-07-26T10:37:57.669014Z",
     "start_time": "2020-07-26T10:37:57.621470Z"
    }
   },
   "outputs": [
    {
     "name": "stdout",
     "output_type": "stream",
     "text": [
      "== Physical Plan ==\n",
      "*(2) Project [pythonUDF0#2189 AS pandas_add_one_tenth(z)#2117]\n",
      "+- ArrowEvalPython [pandas_add_one_tenth(cast(_c6#666 as double))], [pythonUDF0#2189], 200\n",
      "   +- *(1) Filter AtLeastNNulls(n, cast(_c6#666 as double))\n",
      "      +- InMemoryTableScan [_c6#666], [AtLeastNNulls(n, cast(_c6#666 as double))]\n",
      "            +- InMemoryRelation [_c0#660, _c1#661, _c2#662, _c3#663, _c4#664, _c5#665, _c6#666], StorageLevel(disk, memory, deserialized, 1 replicas)\n",
      "                  +- FileScan csv [_c0#130,_c1#131,_c2#132,_c3#133,_c4#134,_c5#135,_c6#136] Batched: false, DataFilters: [], Format: CSV, Location: InMemoryFileIndex[file:/media/maja/Samsung_T51/quasar/spectra-sample.csv], PartitionFilters: [], PushedFilters: [], ReadSchema: struct<_c0:string,_c1:string,_c2:string,_c3:string,_c4:string,_c5:string,_c6:string>\n",
      "\n",
      "\n"
     ]
    }
   ],
   "source": [
    "df_csv.select(pandas_add_one_tenth(col(\"z\"))).explain()"
   ]
  },
  {
   "cell_type": "markdown",
   "metadata": {},
   "source": [
    "330ms, 344ms, 345ms, 344ms, 342ms"
   ]
  },
  {
   "cell_type": "markdown",
   "metadata": {},
   "source": [
    "# Complex operation"
   ]
  },
  {
   "cell_type": "code",
   "execution_count": null,
   "metadata": {
    "ExecuteTime": {
     "end_time": "2020-07-26T09:58:12.154652Z",
     "start_time": "2020-07-26T09:58:12.145495Z"
    }
   },
   "outputs": [],
   "source": [
    "import statistics"
   ]
  },
  {
   "cell_type": "markdown",
   "metadata": {},
   "source": [
    "## PySpark UDF"
   ]
  },
  {
   "cell_type": "code",
   "execution_count": null,
   "metadata": {
    "ExecuteTime": {
     "end_time": "2020-07-26T09:58:14.742209Z",
     "start_time": "2020-07-26T09:58:14.728471Z"
    }
   },
   "outputs": [],
   "source": [
    "@udf(ArrayType(DoubleType()))\n",
    "def udf_mean(ax: ArrayType(DoubleType())) -> ArrayType(DoubleType()):\n",
    "    mn = statistics.mean(ax)\n",
    "    return [y-mn for y in ax]"
   ]
  },
  {
   "cell_type": "code",
   "execution_count": null,
   "metadata": {
    "ExecuteTime": {
     "end_time": "2020-07-26T09:58:41.666398Z",
     "start_time": "2020-07-26T09:58:40.679998Z"
    },
    "scrolled": true
   },
   "outputs": [],
   "source": [
    "startudf = time.time()\n",
    "df.select(col('continuum')).select(udf_mean(col(\"continuum\"))).show()\n",
    "endudf = time.time()\n",
    "print(f'Time PySpark UDF: {endudf-startudf}')"
   ]
  },
  {
   "cell_type": "markdown",
   "metadata": {},
   "source": [
    "781ms, 787ms, 761ms, 740ms, 737ms"
   ]
  },
  {
   "cell_type": "markdown",
   "metadata": {},
   "source": [
    "## Pandas UDF"
   ]
  },
  {
   "cell_type": "code",
   "execution_count": null,
   "metadata": {
    "ExecuteTime": {
     "end_time": "2020-07-26T09:58:51.243521Z",
     "start_time": "2020-07-26T09:58:51.237852Z"
    }
   },
   "outputs": [],
   "source": [
    "@pandas_udf(ArrayType(DoubleType()))\n",
    "def pandas_udf_mean(ax: pd.Series) -> pd.Series:\n",
    "    def subtract_statistics(x):\n",
    "        mn = statistics.mean(x)\n",
    "        return [y-mn for y in x]\n",
    "    return ax.apply(subtract_statistics)"
   ]
  },
  {
   "cell_type": "code",
   "execution_count": null,
   "metadata": {
    "ExecuteTime": {
     "end_time": "2020-07-26T09:58:58.473638Z",
     "start_time": "2020-07-26T09:58:51.743537Z"
    }
   },
   "outputs": [],
   "source": [
    "startpandasudf = time.time()\n",
    "df.select(col('continuum')).select(pandas_udf_mean(col(\"continuum\"))).show()\n",
    "endpandasudf = time.time()\n",
    "print(f'Time Pandas UDF: {endpandasudf-startpandasudf}')"
   ]
  },
  {
   "cell_type": "markdown",
   "metadata": {},
   "source": [
    "5.95s, 5.93s, 6.10s, 5.99s, 6.11s"
   ]
  },
  {
   "cell_type": "markdown",
   "metadata": {},
   "source": [
    "# Operation over a row"
   ]
  },
  {
   "cell_type": "markdown",
   "metadata": {},
   "source": [
    "## Pyspark UDF"
   ]
  },
  {
   "cell_type": "code",
   "execution_count": 58,
   "metadata": {
    "ExecuteTime": {
     "end_time": "2020-07-26T10:40:00.676147Z",
     "start_time": "2020-07-26T10:40:00.670651Z"
    }
   },
   "outputs": [],
   "source": [
    "@udf(DoubleType())\n",
    "def udf_column_multiplication(x: DoubleType(), y: DoubleType()) -> DoubleType():\n",
    "    return x*y"
   ]
  },
  {
   "cell_type": "code",
   "execution_count": 59,
   "metadata": {
    "ExecuteTime": {
     "end_time": "2020-07-26T10:40:02.148500Z",
     "start_time": "2020-07-26T10:40:02.026090Z"
    }
   },
   "outputs": [
    {
     "name": "stdout",
     "output_type": "stream",
     "text": [
      "+---------------------------------+\n",
      "|udf_column_multiplication(z, mjd)|\n",
      "+---------------------------------+\n",
      "|               153487.18919754028|\n",
      "|               151208.26314926147|\n",
      "|               31505.863530635834|\n",
      "|               128999.42841529846|\n",
      "|                43362.38734006882|\n",
      "|                33854.06834602356|\n",
      "|                 158862.478723526|\n",
      "|               33689.990174770355|\n",
      "|               131764.66566085815|\n",
      "|               219852.81723976135|\n",
      "|               123554.83707427979|\n",
      "|               192806.01546525955|\n",
      "|                168726.7675614357|\n",
      "|               113693.43193054199|\n",
      "|               41138.776309490204|\n",
      "|               112406.38500213623|\n",
      "|               151932.23136901855|\n",
      "|               126565.37863373756|\n",
      "|                 35556.8055588007|\n",
      "|                40014.21735727787|\n",
      "+---------------------------------+\n",
      "only showing top 20 rows\n",
      "\n",
      "Time PySpark UDF: 0.11775493621826172\n"
     ]
    }
   ],
   "source": [
    "startudf = time.time()\n",
    "df.select(udf_column_multiplication(col(\"z\"), col(\"mjd\"))).show()\n",
    "endudf = time.time()\n",
    "print(f'Time PySpark UDF: {endudf-startudf}')"
   ]
  },
  {
   "cell_type": "code",
   "execution_count": 61,
   "metadata": {
    "ExecuteTime": {
     "end_time": "2020-07-26T10:40:22.254227Z",
     "start_time": "2020-07-26T10:40:22.130494Z"
    }
   },
   "outputs": [
    {
     "name": "stdout",
     "output_type": "stream",
     "text": [
      "+---------------------------------+\n",
      "|udf_column_multiplication(z, mjd)|\n",
      "+---------------------------------+\n",
      "|               153487.18919754028|\n",
      "|               151208.26314926147|\n",
      "|               31505.863530635834|\n",
      "|               128999.42841529846|\n",
      "|                43362.38734006882|\n",
      "|                33854.06834602356|\n",
      "|                 158862.478723526|\n",
      "|               33689.990174770355|\n",
      "|               131764.66566085815|\n",
      "|               219852.81723976135|\n",
      "|               123554.83707427979|\n",
      "|               192806.01546525955|\n",
      "|                168726.7675614357|\n",
      "|               113693.43193054199|\n",
      "|               41138.776309490204|\n",
      "|               112406.38500213623|\n",
      "|               151932.23136901855|\n",
      "|               126565.37863373756|\n",
      "|                 35556.8055588007|\n",
      "|                40014.21735727787|\n",
      "+---------------------------------+\n",
      "only showing top 20 rows\n",
      "\n",
      "Time PySpark UDF: 0.11924123764038086\n"
     ]
    }
   ],
   "source": [
    "startudf = time.time()\n",
    "df.select(udf_column_multiplication(col(\"z\"), col(\"mjd\"))).show()\n",
    "endudf = time.time()\n",
    "print(f'Time PySpark UDF: {endudf-startudf}')"
   ]
  },
  {
   "cell_type": "markdown",
   "metadata": {},
   "source": [
    "99ms, 89ms, 91ms, 91ms, 94ms"
   ]
  },
  {
   "cell_type": "markdown",
   "metadata": {},
   "source": [
    "## Pandas UDF"
   ]
  },
  {
   "cell_type": "code",
   "execution_count": 62,
   "metadata": {
    "ExecuteTime": {
     "end_time": "2020-07-26T10:40:27.061424Z",
     "start_time": "2020-07-26T10:40:27.057493Z"
    }
   },
   "outputs": [],
   "source": [
    "@pandas_udf(DoubleType())\n",
    "def pandas_column_multiplication(x: pd.Series, y: pd.Series) -> pd.Series:\n",
    "    return x*y"
   ]
  },
  {
   "cell_type": "code",
   "execution_count": 63,
   "metadata": {
    "ExecuteTime": {
     "end_time": "2020-07-26T10:40:30.472013Z",
     "start_time": "2020-07-26T10:40:30.116020Z"
    }
   },
   "outputs": [
    {
     "name": "stdout",
     "output_type": "stream",
     "text": [
      "+------------------------------------+\n",
      "|pandas_column_multiplication(z, mjd)|\n",
      "+------------------------------------+\n",
      "|                  153487.18919754028|\n",
      "|                  151208.26314926147|\n",
      "|                  31505.863530635834|\n",
      "|                  128999.42841529846|\n",
      "|                   43362.38734006882|\n",
      "|                   33854.06834602356|\n",
      "|                    158862.478723526|\n",
      "|                  33689.990174770355|\n",
      "|                  131764.66566085815|\n",
      "|                  219852.81723976135|\n",
      "|                  123554.83707427979|\n",
      "|                  192806.01546525955|\n",
      "|                   168726.7675614357|\n",
      "|                  113693.43193054199|\n",
      "|                  41138.776309490204|\n",
      "|                  112406.38500213623|\n",
      "|                  151932.23136901855|\n",
      "|                  126565.37863373756|\n",
      "|                    35556.8055588007|\n",
      "|                   40014.21735727787|\n",
      "+------------------------------------+\n",
      "only showing top 20 rows\n",
      "\n"
     ]
    }
   ],
   "source": [
    "df.select(pandas_column_multiplication(col(\"z\"), col(\"mjd\"))).show()"
   ]
  },
  {
   "cell_type": "code",
   "execution_count": 64,
   "metadata": {
    "ExecuteTime": {
     "end_time": "2020-07-26T10:40:39.804558Z",
     "start_time": "2020-07-26T10:40:39.440073Z"
    }
   },
   "outputs": [
    {
     "name": "stdout",
     "output_type": "stream",
     "text": [
      "+------------------------------------+\n",
      "|pandas_column_multiplication(z, mjd)|\n",
      "+------------------------------------+\n",
      "|                  153487.18919754028|\n",
      "|                  151208.26314926147|\n",
      "|                  31505.863530635834|\n",
      "|                  128999.42841529846|\n",
      "|                   43362.38734006882|\n",
      "|                   33854.06834602356|\n",
      "|                    158862.478723526|\n",
      "|                  33689.990174770355|\n",
      "|                  131764.66566085815|\n",
      "|                  219852.81723976135|\n",
      "|                  123554.83707427979|\n",
      "|                  192806.01546525955|\n",
      "|                   168726.7675614357|\n",
      "|                  113693.43193054199|\n",
      "|                  41138.776309490204|\n",
      "|                  112406.38500213623|\n",
      "|                  151932.23136901855|\n",
      "|                  126565.37863373756|\n",
      "|                    35556.8055588007|\n",
      "|                   40014.21735727787|\n",
      "+------------------------------------+\n",
      "only showing top 20 rows\n",
      "\n"
     ]
    }
   ],
   "source": [
    "df_csv.select(pandas_column_multiplication(col(\"z\"), col(\"mjd\"))).show()"
   ]
  },
  {
   "cell_type": "markdown",
   "metadata": {},
   "source": [
    "399ms, 386ms, 405ms, 401ms, 398ms"
   ]
  },
  {
   "cell_type": "code",
   "execution_count": null,
   "metadata": {},
   "outputs": [],
   "source": [
    "df.head(10000).write.csv(f'{DATA_PATH}/quasar/spectra')"
   ]
  }
 ],
 "metadata": {
  "kernelspec": {
   "display_name": "Quasar Analysis (python3.8)",
   "language": "python",
   "name": "quasarenv"
  },
  "language_info": {
   "codemirror_mode": {
    "name": "ipython",
    "version": 3
   },
   "file_extension": ".py",
   "mimetype": "text/x-python",
   "name": "python",
   "nbconvert_exporter": "python",
   "pygments_lexer": "ipython3",
   "version": "3.8.5"
  },
  "latex_envs": {
   "LaTeX_envs_menu_present": true,
   "autoclose": false,
   "autocomplete": true,
   "bibliofile": "biblio.bib",
   "cite_by": "apalike",
   "current_citInitial": 1,
   "eqLabelWithNumbers": true,
   "eqNumInitial": 1,
   "hotkeys": {
    "equation": "Ctrl-E",
    "itemize": "Ctrl-I"
   },
   "labels_anchors": false,
   "latex_user_defs": false,
   "report_style_numbering": false,
   "user_envs_cfg": false
  },
  "toc": {
   "base_numbering": 1,
   "nav_menu": {},
   "number_sections": true,
   "sideBar": true,
   "skip_h1_title": false,
   "title_cell": "Table of Contents",
   "title_sidebar": "Contents",
   "toc_cell": false,
   "toc_position": {},
   "toc_section_display": true,
   "toc_window_display": false
  },
  "varInspector": {
   "cols": {
    "lenName": 16,
    "lenType": 16,
    "lenVar": 40
   },
   "kernels_config": {
    "python": {
     "delete_cmd_postfix": "",
     "delete_cmd_prefix": "del ",
     "library": "var_list.py",
     "varRefreshCmd": "print(var_dic_list())"
    },
    "r": {
     "delete_cmd_postfix": ") ",
     "delete_cmd_prefix": "rm(",
     "library": "var_list.r",
     "varRefreshCmd": "cat(var_dic_list()) "
    }
   },
   "types_to_exclude": [
    "module",
    "function",
    "builtin_function_or_method",
    "instance",
    "_Feature"
   ],
   "window_display": false
  }
 },
 "nbformat": 4,
 "nbformat_minor": 4
}
