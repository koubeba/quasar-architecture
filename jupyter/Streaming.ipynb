{
 "cells": [
  {
   "cell_type": "code",
   "execution_count": 1,
   "metadata": {},
   "outputs": [
    {
     "name": "stdout",
     "output_type": "stream",
     "text": [
      "Marking org.apache.spark:spark-sql-kafka-0-10_2.11:2.4.5 for download\n",
      "Obtained 12 files\n"
     ]
    }
   ],
   "source": [
    "%AddDeps org.apache.spark spark-sql-kafka-0-10_2.11 2.4.5 --transitive"
   ]
  },
  {
   "cell_type": "markdown",
   "metadata": {},
   "source": [
    "Download the connector. Note the _--transitive_ flag- it is necessary in order to download Kafka utils etc"
   ]
  },
  {
   "cell_type": "code",
   "execution_count": 2,
   "metadata": {},
   "outputs": [],
   "source": [
    "import org.apache.spark._"
   ]
  },
  {
   "cell_type": "markdown",
   "metadata": {},
   "source": [
    "## Spark Context"
   ]
  },
  {
   "cell_type": "code",
   "execution_count": 3,
   "metadata": {},
   "outputs": [
    {
     "data": {
      "text/plain": [
       "spark = org.apache.spark.sql.SparkSession@2835b9a8\n"
      ]
     },
     "metadata": {},
     "output_type": "display_data"
    },
    {
     "data": {
      "text/plain": [
       "org.apache.spark.sql.SparkSession@2835b9a8"
      ]
     },
     "execution_count": 3,
     "metadata": {},
     "output_type": "execute_result"
    }
   ],
   "source": [
    "val spark = SparkSession.builder().appName(\"MessageProcessor\")\n",
    "            .master(\"spark://spark:7077\").getOrCreate()"
   ]
  },
  {
   "cell_type": "markdown",
   "metadata": {},
   "source": [
    "## Obtain dataframes from Kafka"
   ]
  },
  {
   "cell_type": "code",
   "execution_count": 4,
   "metadata": {},
   "outputs": [
    {
     "data": {
      "text/plain": [
       "dataframe = [key: binary, value: binary ... 5 more fields]\n"
      ]
     },
     "metadata": {},
     "output_type": "display_data"
    },
    {
     "data": {
      "text/plain": [
       "[key: binary, value: binary ... 5 more fields]"
      ]
     },
     "execution_count": 4,
     "metadata": {},
     "output_type": "execute_result"
    }
   ],
   "source": [
    "val dataframe = spark\n",
    "    .readStream\n",
    "    .format(\"kafka\")\n",
    "    .option(\"kafka.bootstrap.servers\", \"kafka1:29092\")\n",
    "    .option(\"subscribe\", \"Messages\")\n",
    "    .option(\"startingOffsets\", \"earliest\")\n",
    "    .option(\"endingOffsets\", \"latest\")\n",
    "    .load()"
   ]
  },
  {
   "cell_type": "code",
   "execution_count": 6,
   "metadata": {},
   "outputs": [
    {
     "data": {
      "text/plain": [
       "[key: string, value: string]"
      ]
     },
     "execution_count": 6,
     "metadata": {},
     "output_type": "execute_result"
    }
   ],
   "source": [
    "dataframe.selectExpr(\"CAST(key AS STRING)\", \"CAST(value AS STRING)\")\n",
    "  .as[(String, String)]"
   ]
  },
  {
   "cell_type": "code",
   "execution_count": 7,
   "metadata": {},
   "outputs": [
    {
     "name": "stdout",
     "output_type": "stream",
     "text": [
      "root\n",
      " |-- key: binary (nullable = true)\n",
      " |-- value: binary (nullable = true)\n",
      " |-- topic: string (nullable = true)\n",
      " |-- partition: integer (nullable = true)\n",
      " |-- offset: long (nullable = true)\n",
      " |-- timestamp: timestamp (nullable = true)\n",
      " |-- timestampType: integer (nullable = true)\n",
      "\n"
     ]
    }
   ],
   "source": [
    "dataframe.printSchema()"
   ]
  },
  {
   "cell_type": "code",
   "execution_count": 11,
   "metadata": {},
   "outputs": [
    {
     "data": {
      "text/plain": [
       "output = org.apache.spark.sql.execution.streaming.StreamingQueryWrapper@79b4a606\n"
      ]
     },
     "metadata": {},
     "output_type": "display_data"
    },
    {
     "data": {
      "text/plain": [
       "org.apache.spark.sql.execution.streaming.StreamingQueryWrapper@79b4a606"
      ]
     },
     "execution_count": 11,
     "metadata": {},
     "output_type": "execute_result"
    }
   ],
   "source": [
    "val output = dataframe.writeStream\n",
    "                    .outputMode(\"append\").format(\"memory\")\n",
    "                    .queryName(\"table\")\n",
    "                    .start()"
   ]
  },
  {
   "cell_type": "code",
   "execution_count": 12,
   "metadata": {},
   "outputs": [
    {
     "name": "stdout",
     "output_type": "stream",
     "text": [
      "+---+-----+-----+---------+------+---------+-------------+\n",
      "|key|value|topic|partition|offset|timestamp|timestampType|\n",
      "+---+-----+-----+---------+------+---------+-------------+\n",
      "+---+-----+-----+---------+------+---------+-------------+\n",
      "\n",
      "+--------------------+--------------------+--------+---------+------+--------------------+-------------+\n",
      "|                 key|               value|   topic|partition|offset|           timestamp|timestampType|\n",
      "+--------------------+--------------------+--------+---------+------+--------------------+-------------+\n",
      "|[52 6F 77 44 61 7...|[7B 22 6B 6F 6C 3...|Messages|        0|     3|2020-05-19 17:15:...|            0|\n",
      "|[52 6F 77 44 61 7...|[7B 22 6B 6F 6C 3...|Messages|        0|     4|2020-05-19 17:15:...|            0|\n",
      "|[52 6F 77 44 61 7...|[7B 22 6B 6F 6C 3...|Messages|        0|     5|2020-05-19 17:15:...|            0|\n",
      "+--------------------+--------------------+--------+---------+------+--------------------+-------------+\n",
      "\n",
      "+--------------------+--------------------+--------+---------+------+--------------------+-------------+\n",
      "|                 key|               value|   topic|partition|offset|           timestamp|timestampType|\n",
      "+--------------------+--------------------+--------+---------+------+--------------------+-------------+\n",
      "|[52 6F 77 44 61 7...|[7B 22 6B 6F 6C 3...|Messages|        0|     3|2020-05-19 17:15:...|            0|\n",
      "|[52 6F 77 44 61 7...|[7B 22 6B 6F 6C 3...|Messages|        0|     4|2020-05-19 17:15:...|            0|\n",
      "|[52 6F 77 44 61 7...|[7B 22 6B 6F 6C 3...|Messages|        0|     5|2020-05-19 17:15:...|            0|\n",
      "+--------------------+--------------------+--------+---------+------+--------------------+-------------+\n",
      "\n",
      "+--------------------+--------------------+--------+---------+------+--------------------+-------------+\n",
      "|                 key|               value|   topic|partition|offset|           timestamp|timestampType|\n",
      "+--------------------+--------------------+--------+---------+------+--------------------+-------------+\n",
      "|[52 6F 77 44 61 7...|[7B 22 6B 6F 6C 3...|Messages|        0|     3|2020-05-19 17:15:...|            0|\n",
      "|[52 6F 77 44 61 7...|[7B 22 6B 6F 6C 3...|Messages|        0|     4|2020-05-19 17:15:...|            0|\n",
      "|[52 6F 77 44 61 7...|[7B 22 6B 6F 6C 3...|Messages|        0|     5|2020-05-19 17:15:...|            0|\n",
      "+--------------------+--------------------+--------+---------+------+--------------------+-------------+\n",
      "\n",
      "+--------------------+--------------------+--------+---------+------+--------------------+-------------+\n",
      "|                 key|               value|   topic|partition|offset|           timestamp|timestampType|\n",
      "+--------------------+--------------------+--------+---------+------+--------------------+-------------+\n",
      "|[52 6F 77 44 61 7...|[7B 22 6B 6F 6C 3...|Messages|        0|     3|2020-05-19 17:15:...|            0|\n",
      "|[52 6F 77 44 61 7...|[7B 22 6B 6F 6C 3...|Messages|        0|     4|2020-05-19 17:15:...|            0|\n",
      "|[52 6F 77 44 61 7...|[7B 22 6B 6F 6C 3...|Messages|        0|     5|2020-05-19 17:15:...|            0|\n",
      "+--------------------+--------------------+--------+---------+------+--------------------+-------------+\n",
      "\n"
     ]
    },
    {
     "data": {
      "text/plain": [
       "Name: java.lang.InterruptedException\n",
       "Message: sleep interrupted\n",
       "StackTrace:   at java.lang.Thread.sleep(Native Method)"
      ]
     },
     "execution_count": 12,
     "metadata": {},
     "output_type": "execute_result"
    }
   ],
   "source": [
    "while (output.isActive) {\n",
    "    Thread.sleep(10000)\n",
    "    spark.sql(\"select * from table\").show()\n",
    "}"
   ]
  },
  {
   "cell_type": "code",
   "execution_count": 10,
   "metadata": {},
   "outputs": [
    {
     "data": {
      "text/plain": [
       "lastException: Throwable = null\n"
      ]
     },
     "metadata": {},
     "output_type": "display_data"
    }
   ],
   "source": [
    "output.stop()"
   ]
  },
  {
   "cell_type": "code",
   "execution_count": null,
   "metadata": {},
   "outputs": [],
   "source": []
  }
 ],
 "metadata": {
  "kernelspec": {
   "display_name": "Apache Toree - Scala",
   "language": "scala",
   "name": "apache_toree_scala"
  },
  "language_info": {
   "codemirror_mode": "text/x-scala",
   "file_extension": ".scala",
   "mimetype": "text/x-scala",
   "name": "scala",
   "pygments_lexer": "scala",
   "version": "2.11.12"
  }
 },
 "nbformat": 4,
 "nbformat_minor": 4
}
