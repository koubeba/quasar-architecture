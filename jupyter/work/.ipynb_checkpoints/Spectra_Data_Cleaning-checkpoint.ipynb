{
 "cells": [
  {
   "cell_type": "code",
   "execution_count": 1,
   "metadata": {
    "ExecuteTime": {
     "end_time": "2020-07-26T13:38:22.116958Z",
     "start_time": "2020-07-26T13:38:21.618671Z"
    }
   },
   "outputs": [],
   "source": [
    "from pyspark.sql import SparkSession, DataFrame\n",
    "from pyspark.sql.functions import asc, col, count, desc, explode, udf\n",
    "from pyspark.sql.types import ArrayType, BooleanType, DoubleType, IntegerType, StringType\n",
    "import matplotlib.pyplot as plt\n",
    "from pyspark_dist_explore import hist"
   ]
  },
  {
   "cell_type": "code",
   "execution_count": 2,
   "metadata": {
    "ExecuteTime": {
     "end_time": "2020-07-26T13:38:22.688372Z",
     "start_time": "2020-07-26T13:38:22.680244Z"
    }
   },
   "outputs": [],
   "source": [
    "MASTER: str = \"local\"\n",
    "DATA_PATH: str = \"/media/maja/Samsung_T51/quasar\""
   ]
  },
  {
   "cell_type": "code",
   "execution_count": 15,
   "metadata": {
    "ExecuteTime": {
     "end_time": "2020-07-26T13:40:00.793462Z",
     "start_time": "2020-07-26T13:40:00.660016Z"
    }
   },
   "outputs": [],
   "source": [
    "spark: SparkSession = SparkSession.builder.appName(\"Spectra_Data_Cleaning\") \\\n",
    "    .master(MASTER).getOrCreate()"
   ]
  },
  {
   "cell_type": "code",
   "execution_count": 16,
   "metadata": {
    "ExecuteTime": {
     "end_time": "2020-07-26T13:40:01.450597Z",
     "start_time": "2020-07-26T13:40:01.136960Z"
    }
   },
   "outputs": [],
   "source": [
    "df: DataFrame = spark.read.parquet(f'{DATA_PATH}/spectra.parquet', mergeSchema=True)"
   ]
  },
  {
   "cell_type": "code",
   "execution_count": 5,
   "metadata": {
    "ExecuteTime": {
     "end_time": "2020-07-26T13:38:40.122078Z",
     "start_time": "2020-07-26T13:38:40.113646Z"
    }
   },
   "outputs": [
    {
     "data": {
      "text/plain": [
       "[('_corrupt_record', 'string'),\n",
       " ('_id', 'struct<$oid:string>'),\n",
       " ('continuum', 'array<string>'),\n",
       " ('dec', 'double'),\n",
       " ('fiber', 'bigint'),\n",
       " ('mjd', 'bigint'),\n",
       " ('name', 'string'),\n",
       " ('plate', 'bigint'),\n",
       " ('ra', 'double'),\n",
       " ('size', 'bigint'),\n",
       " ('spectraSetOID', 'struct<$oid:string>'),\n",
       " ('spectrum', 'array<string>'),\n",
       " ('subtype', 'string'),\n",
       " ('type', 'string'),\n",
       " ('z', 'double'),\n",
       " ('zerr', 'double')]"
      ]
     },
     "execution_count": 5,
     "metadata": {},
     "output_type": "execute_result"
    }
   ],
   "source": [
    "df.dtypes"
   ]
  },
  {
   "cell_type": "markdown",
   "metadata": {},
   "source": [
    "## Delete corrupt rows"
   ]
  },
  {
   "cell_type": "code",
   "execution_count": 17,
   "metadata": {
    "ExecuteTime": {
     "end_time": "2020-07-26T13:40:03.959407Z",
     "start_time": "2020-07-26T13:40:03.947019Z"
    }
   },
   "outputs": [],
   "source": [
    "df = df.filter(df['_corrupt_record'].isNull())"
   ]
  },
  {
   "cell_type": "code",
   "execution_count": 7,
   "metadata": {
    "ExecuteTime": {
     "end_time": "2020-07-26T13:38:50.326070Z",
     "start_time": "2020-07-26T13:38:42.874312Z"
    }
   },
   "outputs": [
    {
     "data": {
      "text/plain": [
       "526305"
      ]
     },
     "execution_count": 7,
     "metadata": {},
     "output_type": "execute_result"
    }
   ],
   "source": [
    "df.count()"
   ]
  },
  {
   "cell_type": "markdown",
   "metadata": {},
   "source": [
    "## Declination, right ascension"
   ]
  },
  {
   "cell_type": "markdown",
   "metadata": {},
   "source": [
    "**Declination bounds**: -90.0 to +90.0 \\\n",
    "**Right ascension bounds**: 0.0 to 360.0"
   ]
  },
  {
   "cell_type": "code",
   "execution_count": 23,
   "metadata": {
    "ExecuteTime": {
     "end_time": "2020-07-26T13:40:33.328656Z",
     "start_time": "2020-07-26T13:40:28.497061Z"
    }
   },
   "outputs": [
    {
     "name": "stdout",
     "output_type": "stream",
     "text": [
      "+-------+------------------+\n",
      "|summary|               dec|\n",
      "+-------+------------------+\n",
      "|  count|            526305|\n",
      "|   mean| 27.12275825183804|\n",
      "| stddev|19.663092374128407|\n",
      "|    min|        -17.520444|\n",
      "|    max|         84.431417|\n",
      "+-------+------------------+\n",
      "\n"
     ]
    }
   ],
   "source": [
    "df.select('dec').describe().show()"
   ]
  },
  {
   "cell_type": "code",
   "execution_count": 24,
   "metadata": {
    "ExecuteTime": {
     "end_time": "2020-07-26T13:40:46.021417Z",
     "start_time": "2020-07-26T13:40:41.766331Z"
    }
   },
   "outputs": [
    {
     "name": "stdout",
     "output_type": "stream",
     "text": [
      "+-------+--------------------+\n",
      "|summary|                  ra|\n",
      "+-------+--------------------+\n",
      "|  count|              526305|\n",
      "|   mean|    166.392792852097|\n",
      "| stddev|   92.35721606872647|\n",
      "|    min|0.001898274356335...|\n",
      "|    max|   359.9999541295649|\n",
      "+-------+--------------------+\n",
      "\n"
     ]
    }
   ],
   "source": [
    "df.select('ra').describe().show()"
   ]
  },
  {
   "cell_type": "markdown",
   "metadata": {},
   "source": [
    "## Redshift"
   ]
  },
  {
   "cell_type": "code",
   "execution_count": null,
   "metadata": {
    "ExecuteTime": {
     "end_time": "2020-07-26T09:53:45.612082Z",
     "start_time": "2020-07-26T09:53:41.305931Z"
    }
   },
   "outputs": [],
   "source": [
    "df.select(['z', 'zerr']).describe().show()"
   ]
  },
  {
   "cell_type": "code",
   "execution_count": null,
   "metadata": {
    "ExecuteTime": {
     "end_time": "2020-07-26T09:54:55.719237Z",
     "start_time": "2020-07-26T09:53:45.613634Z"
    }
   },
   "outputs": [],
   "source": [
    "fig, ax = plt.subplots(ncols=2, figsize=(25, 5))\n",
    "\n",
    "hist(ax[0], df.select('z'), bins=100)\n",
    "ax[0].set_title('Redshift distribution')\n",
    "\n",
    "hist(ax[1], df.select('zerr'), bins=100)\n",
    "ax[1].set_title('Redshift error distribution')"
   ]
  },
  {
   "cell_type": "code",
   "execution_count": 46,
   "metadata": {
    "ExecuteTime": {
     "end_time": "2020-07-26T13:54:54.728152Z",
     "start_time": "2020-07-26T13:54:48.937804Z"
    }
   },
   "outputs": [],
   "source": [
    "zerr_99_quantile: DoubleType() = df.approxQuantile('zerr', [0.995], 0)[0]"
   ]
  },
  {
   "cell_type": "markdown",
   "metadata": {},
   "source": [
    "Discard the 0.5% with highest redshift error"
   ]
  },
  {
   "cell_type": "code",
   "execution_count": 47,
   "metadata": {
    "ExecuteTime": {
     "end_time": "2020-07-26T13:55:11.531060Z",
     "start_time": "2020-07-26T13:55:11.434988Z"
    }
   },
   "outputs": [],
   "source": [
    "df = df.filter(df['zerr']>=zerr_99_quantile)"
   ]
  },
  {
   "cell_type": "markdown",
   "metadata": {},
   "source": [
    "## Type"
   ]
  },
  {
   "cell_type": "code",
   "execution_count": null,
   "metadata": {
    "ExecuteTime": {
     "end_time": "2020-07-26T11:55:49.073081Z",
     "start_time": "2020-07-26T11:55:37.295047Z"
    }
   },
   "outputs": [],
   "source": [
    "df.select(['type']).describe().show()"
   ]
  },
  {
   "cell_type": "code",
   "execution_count": 48,
   "metadata": {
    "ExecuteTime": {
     "end_time": "2020-07-26T13:55:23.833431Z",
     "start_time": "2020-07-26T13:55:23.822104Z"
    }
   },
   "outputs": [],
   "source": [
    "@udf(StringType())\n",
    "def normalize_type_name(x: StringType()) -> StringType():\n",
    "    return x.strip()"
   ]
  },
  {
   "cell_type": "code",
   "execution_count": 49,
   "metadata": {
    "ExecuteTime": {
     "end_time": "2020-07-26T13:55:24.278174Z",
     "start_time": "2020-07-26T13:55:24.254359Z"
    }
   },
   "outputs": [],
   "source": [
    "df = df.withColumn('type', normalize_type_name(col('type')))"
   ]
  },
  {
   "cell_type": "code",
   "execution_count": 25,
   "metadata": {
    "ExecuteTime": {
     "end_time": "2020-07-26T13:41:11.002505Z",
     "start_time": "2020-07-26T13:40:46.833240Z"
    }
   },
   "outputs": [
    {
     "name": "stdout",
     "output_type": "stream",
     "text": [
      "+------+\n",
      "|  type|\n",
      "+------+\n",
      "|GALAXY|\n",
      "|   QSO|\n",
      "|  STAR|\n",
      "+------+\n",
      "\n"
     ]
    }
   ],
   "source": [
    "df.select(['type']).distinct().show()"
   ]
  },
  {
   "cell_type": "markdown",
   "metadata": {},
   "source": [
    "## Subtype"
   ]
  },
  {
   "cell_type": "code",
   "execution_count": null,
   "metadata": {
    "ExecuteTime": {
     "end_time": "2020-07-26T11:56:01.339103Z",
     "start_time": "2020-07-26T11:55:54.535486Z"
    }
   },
   "outputs": [],
   "source": [
    "df.select(['subtype']).distinct().show()"
   ]
  },
  {
   "cell_type": "code",
   "execution_count": 50,
   "metadata": {
    "ExecuteTime": {
     "end_time": "2020-07-26T13:55:26.653378Z",
     "start_time": "2020-07-26T13:55:26.630489Z"
    }
   },
   "outputs": [],
   "source": [
    "df = df.withColumn('subtype', normalize_type_name(col('subtype')))"
   ]
  },
  {
   "cell_type": "code",
   "execution_count": null,
   "metadata": {
    "ExecuteTime": {
     "end_time": "2020-07-26T11:56:01.371225Z",
     "start_time": "2020-07-26T11:55:56.043Z"
    }
   },
   "outputs": [],
   "source": [
    "df.select(['subtype']).distinct().show()"
   ]
  },
  {
   "cell_type": "markdown",
   "metadata": {},
   "source": [
    "## Modified Julian Date"
   ]
  },
  {
   "cell_type": "code",
   "execution_count": null,
   "metadata": {
    "ExecuteTime": {
     "end_time": "2020-07-26T11:16:37.519313Z",
     "start_time": "2020-07-26T11:16:33.601829Z"
    }
   },
   "outputs": [],
   "source": [
    "df.select('mjd').describe().show()"
   ]
  },
  {
   "cell_type": "markdown",
   "metadata": {},
   "source": [
    "51608 -> 03-05-2000 \\\n",
    "57520 -> 05-12-2016"
   ]
  },
  {
   "cell_type": "markdown",
   "metadata": {},
   "source": [
    "## Fiber"
   ]
  },
  {
   "cell_type": "code",
   "execution_count": 51,
   "metadata": {
    "ExecuteTime": {
     "end_time": "2020-07-26T13:58:42.624686Z",
     "start_time": "2020-07-26T13:58:38.672626Z"
    }
   },
   "outputs": [
    {
     "name": "stdout",
     "output_type": "stream",
     "text": [
      "+-------+------------------+\n",
      "|summary|             fiber|\n",
      "+-------+------------------+\n",
      "|  count|              2632|\n",
      "|   mean|476.70022796352583|\n",
      "| stddev|288.77498278122647|\n",
      "|    min|                 1|\n",
      "|    max|              1000|\n",
      "+-------+------------------+\n",
      "\n"
     ]
    }
   ],
   "source": [
    "df.select('fiber').describe().show()"
   ]
  },
  {
   "cell_type": "markdown",
   "metadata": {},
   "source": [
    "## Plate"
   ]
  },
  {
   "cell_type": "code",
   "execution_count": 52,
   "metadata": {
    "ExecuteTime": {
     "end_time": "2020-07-26T13:59:55.431314Z",
     "start_time": "2020-07-26T13:59:51.922281Z"
    }
   },
   "outputs": [
    {
     "name": "stdout",
     "output_type": "stream",
     "text": [
      "+-------+------------------+\n",
      "|summary|             plate|\n",
      "+-------+------------------+\n",
      "|  count|              2632|\n",
      "|   mean| 6511.563829787234|\n",
      "| stddev|2040.2083684580311|\n",
      "|    min|               286|\n",
      "|    max|             10000|\n",
      "+-------+------------------+\n",
      "\n"
     ]
    }
   ],
   "source": [
    "df.select('plate').describe().show()"
   ]
  },
  {
   "cell_type": "markdown",
   "metadata": {},
   "source": [
    "## Continuum, Spectrum"
   ]
  },
  {
   "cell_type": "code",
   "execution_count": 28,
   "metadata": {
    "ExecuteTime": {
     "end_time": "2020-07-26T13:42:14.469259Z",
     "start_time": "2020-07-26T13:42:14.426056Z"
    }
   },
   "outputs": [],
   "source": [
    "df: DataFrame = df.withColumn(\"continuum\", df[\"continuum\"].cast(ArrayType(DoubleType()))) \\\n",
    "    .withColumn(\"spectrum\", df[\"spectrum\"].cast(ArrayType(DoubleType())))"
   ]
  },
  {
   "cell_type": "markdown",
   "metadata": {},
   "source": [
    "Attributes used in further modelling:\n",
    "    - continuum\n",
    "    - type\n",
    "    - subtype\n",
    "    - spectrum\n",
    "    - r\n",
    "    - zerr"
   ]
  }
 ],
 "metadata": {
  "kernelspec": {
   "display_name": "quasarenv",
   "language": "python",
   "name": "quasarenv"
  },
  "language_info": {
   "codemirror_mode": {
    "name": "ipython",
    "version": 3
   },
   "file_extension": ".py",
   "mimetype": "text/x-python",
   "name": "python",
   "nbconvert_exporter": "python",
   "pygments_lexer": "ipython3",
   "version": "3.6.10"
  },
  "latex_envs": {
   "LaTeX_envs_menu_present": true,
   "autoclose": false,
   "autocomplete": true,
   "bibliofile": "biblio.bib",
   "cite_by": "apalike",
   "current_citInitial": 1,
   "eqLabelWithNumbers": true,
   "eqNumInitial": 1,
   "hotkeys": {
    "equation": "Ctrl-E",
    "itemize": "Ctrl-I"
   },
   "labels_anchors": false,
   "latex_user_defs": false,
   "report_style_numbering": false,
   "user_envs_cfg": false
  },
  "toc": {
   "base_numbering": 1,
   "nav_menu": {},
   "number_sections": true,
   "sideBar": true,
   "skip_h1_title": false,
   "title_cell": "Table of Contents",
   "title_sidebar": "Contents",
   "toc_cell": false,
   "toc_position": {},
   "toc_section_display": true,
   "toc_window_display": false
  },
  "varInspector": {
   "cols": {
    "lenName": 16,
    "lenType": 16,
    "lenVar": 40
   },
   "kernels_config": {
    "python": {
     "delete_cmd_postfix": "",
     "delete_cmd_prefix": "del ",
     "library": "var_list.py",
     "varRefreshCmd": "print(var_dic_list())"
    },
    "r": {
     "delete_cmd_postfix": ") ",
     "delete_cmd_prefix": "rm(",
     "library": "var_list.r",
     "varRefreshCmd": "cat(var_dic_list()) "
    }
   },
   "types_to_exclude": [
    "module",
    "function",
    "builtin_function_or_method",
    "instance",
    "_Feature"
   ],
   "window_display": false
  }
 },
 "nbformat": 4,
 "nbformat_minor": 4
}
