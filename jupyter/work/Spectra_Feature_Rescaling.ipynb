{
 "cells": [
  {
   "cell_type": "code",
   "execution_count": 10,
   "metadata": {
    "ExecuteTime": {
     "end_time": "2020-08-14T19:00:08.027700Z",
     "start_time": "2020-08-14T19:00:08.022673Z"
    }
   },
   "outputs": [],
   "source": [
    "from pyspark.sql import Column, DataFrame, SparkSession\n",
    "from pyspark.sql.functions import col, explode, udf\n",
    "from pyspark.sql.types import ArrayType, DoubleType, IntegerType\n",
    "\n",
    "from pyspark.ml.feature import VectorAssembler\n",
    "from pyspark.ml.clustering import BisectingKMeans, BisectingKMeansModel, BisectingKMeansSummary\n",
    "from pyspark.ml.evaluation import ClusteringEvaluator\n",
    "\n",
    "from typing import List\n",
    "\n",
    "import matplotlib.pyplot as plt\n",
    "\n",
    "import numpy as np"
   ]
  },
  {
   "cell_type": "code",
   "execution_count": 11,
   "metadata": {
    "ExecuteTime": {
     "end_time": "2020-08-14T19:00:09.077600Z",
     "start_time": "2020-08-14T19:00:09.074881Z"
    }
   },
   "outputs": [],
   "source": [
    "DATA_PATH = '/media/maya/Samsung_T5/quasar'"
   ]
  },
  {
   "cell_type": "code",
   "execution_count": 12,
   "metadata": {
    "ExecuteTime": {
     "end_time": "2020-08-14T19:00:10.158656Z",
     "start_time": "2020-08-14T19:00:10.153806Z"
    }
   },
   "outputs": [],
   "source": [
    "spark: SparkSession = SparkSession.builder.appName('Spectra_Clustering') \\\n",
    "                      .master('local').getOrCreate()"
   ]
  },
  {
   "cell_type": "code",
   "execution_count": 13,
   "metadata": {
    "ExecuteTime": {
     "end_time": "2020-08-14T19:00:11.581380Z",
     "start_time": "2020-08-14T19:00:11.332012Z"
    }
   },
   "outputs": [],
   "source": [
    "df: DataFrame = spark.read.parquet(f'{DATA_PATH}/cleaned-spectra.parquet')"
   ]
  },
  {
   "cell_type": "code",
   "execution_count": 6,
   "metadata": {
    "ExecuteTime": {
     "end_time": "2020-08-14T18:31:16.151739Z",
     "start_time": "2020-08-14T18:31:16.146143Z"
    }
   },
   "outputs": [
    {
     "data": {
      "text/plain": [
       "[('id', 'string'),\n",
       " ('spectra_set_id', 'string'),\n",
       " ('continuum', 'array<double>'),\n",
       " ('type', 'string'),\n",
       " ('subtype', 'string'),\n",
       " ('spectrum', 'array<double>'),\n",
       " ('z', 'double')]"
      ]
     },
     "execution_count": 6,
     "metadata": {},
     "output_type": "execute_result"
    }
   ],
   "source": [
    "df.dtypes"
   ]
  },
  {
   "cell_type": "code",
   "execution_count": 5,
   "metadata": {
    "ExecuteTime": {
     "end_time": "2020-08-14T11:58:39.345089Z",
     "start_time": "2020-08-14T11:58:28.209908Z"
    }
   },
   "outputs": [
    {
     "data": {
      "text/plain": [
       "512657"
      ]
     },
     "execution_count": 5,
     "metadata": {},
     "output_type": "execute_result"
    }
   ],
   "source": [
    "df.count()"
   ]
  },
  {
   "cell_type": "code",
   "execution_count": 17,
   "metadata": {
    "ExecuteTime": {
     "end_time": "2020-08-14T19:01:08.007012Z",
     "start_time": "2020-08-14T19:01:07.977887Z"
    }
   },
   "outputs": [],
   "source": [
    "continuum_df = df.select('id', explode(col('continuum')))"
   ]
  },
  {
   "cell_type": "code",
   "execution_count": 18,
   "metadata": {
    "ExecuteTime": {
     "end_time": "2020-08-14T19:01:24.659635Z",
     "start_time": "2020-08-14T19:01:24.636722Z"
    }
   },
   "outputs": [],
   "source": [
    "spectrum_df = df.select('id', explode(col('spectrum')))"
   ]
  },
  {
   "cell_type": "markdown",
   "metadata": {},
   "source": [
    "## Explode columns"
   ]
  },
  {
   "cell_type": "code",
   "execution_count": 21,
   "metadata": {
    "ExecuteTime": {
     "end_time": "2020-08-14T19:15:25.550952Z",
     "start_time": "2020-08-14T19:02:33.963706Z"
    },
    "scrolled": true
   },
   "outputs": [
    {
     "name": "stdout",
     "output_type": "stream",
     "text": [
      "+-------+-------------------+\n",
      "|summary|col                |\n",
      "+-------+-------------------+\n",
      "|count  |2095030990         |\n",
      "|mean   |156.15468115821244 |\n",
      "|stddev |588154.097899196   |\n",
      "|min    |0.0                |\n",
      "|max    |4.628853397548165E9|\n",
      "+-------+-------------------+\n",
      "\n"
     ]
    }
   ],
   "source": [
    "continuum_df.select('col').describe().show(truncate=False)"
   ]
  },
  {
   "cell_type": "code",
   "execution_count": 22,
   "metadata": {
    "ExecuteTime": {
     "end_time": "2020-08-14T21:50:09.577516Z",
     "start_time": "2020-08-14T21:34:28.055419Z"
    }
   },
   "outputs": [
    {
     "name": "stdout",
     "output_type": "stream",
     "text": [
      "+-------+----------------------+\n",
      "|summary|col                   |\n",
      "+-------+----------------------+\n",
      "|count  |2072059782            |\n",
      "|mean   |-145.50451629888943   |\n",
      "|stddev |548670.7131087978     |\n",
      "|min    |-4.628853397548165E9  |\n",
      "|max    |4.6147878089786634E-10|\n",
      "+-------+----------------------+\n",
      "\n"
     ]
    }
   ],
   "source": [
    "spectrum_df.select('col').describe().show(truncate=False)"
   ]
  },
  {
   "cell_type": "markdown",
   "metadata": {},
   "source": [
    "### Rescale"
   ]
  },
  {
   "cell_type": "code",
   "execution_count": 7,
   "metadata": {
    "ExecuteTime": {
     "end_time": "2020-08-14T12:48:07.466052Z",
     "start_time": "2020-08-14T12:48:07.370909Z"
    }
   },
   "outputs": [],
   "source": [
    "@udf(DoubleType())\n",
    "def max_in_array(x: ArrayType(DoubleType())) -> DoubleType():\n",
    "    arr: List[DoubleType()] = [i for i in x if i != None]\n",
    "    return float(np.max(arr)) if arr else -float(\"inf\")\n",
    "\n",
    "@udf(DoubleType())\n",
    "def min_in_array(x: ArrayType(DoubleType())) -> DoubleType():\n",
    "    arr: List[DoubleType()] = [i for i in x if i != None]\n",
    "    return float(np.min(arr)) if arr else float(\"inf\")\n",
    "\n",
    "spectra_min_max = df \\\n",
    "    .select(min_in_array(col('spectrum')), min_in_array(col('continuum')),\n",
    "            max_in_array(col('continuum')), max_in_array(col('spectrum'))).cache()"
   ]
  },
  {
   "cell_type": "code",
   "execution_count": 8,
   "metadata": {
    "ExecuteTime": {
     "end_time": "2020-08-14T13:21:32.504681Z",
     "start_time": "2020-08-14T12:48:08.192087Z"
    }
   },
   "outputs": [
    {
     "name": "stdout",
     "output_type": "stream",
     "text": [
      "+-------+----------------------+-----------------------+-----------------------+----------------------+\n",
      "|summary|min_in_array(spectrum)|min_in_array(continuum)|max_in_array(continuum)|max_in_array(spectrum)|\n",
      "+-------+----------------------+-----------------------+-----------------------+----------------------+\n",
      "|count  |512657                |512657                 |512657                 |512657                |\n",
      "|mean   |Infinity              |Infinity               |-Infinity              |-Infinity             |\n",
      "|stddev |NaN                   |NaN                    |NaN                    |NaN                   |\n",
      "|min    |-4.628853397548165E9  |0.0                    |-Infinity              |-Infinity             |\n",
      "|max    |Infinity              |Infinity               |4.628853397548165E9    |4.6147878089786634E-10|\n",
      "+-------+----------------------+-----------------------+-----------------------+----------------------+\n",
      "\n"
     ]
    }
   ],
   "source": [
    "spectra_min_max.describe().show(truncate=False)"
   ]
  },
  {
   "cell_type": "code",
   "execution_count": 8,
   "metadata": {
    "ExecuteTime": {
     "end_time": "2020-07-31T15:46:16.772174Z",
     "start_time": "2020-07-31T15:27:39.369324Z"
    }
   },
   "outputs": [],
   "source": [
    "min_spectra_values = spectra_min_max.select('min_spectrum').collect()\n",
    "max_spectra_values = spectra_min_max.select('max_spectrum').collect()"
   ]
  },
  {
   "cell_type": "code",
   "execution_count": 11,
   "metadata": {
    "ExecuteTime": {
     "end_time": "2020-07-31T15:48:51.758370Z",
     "start_time": "2020-07-31T15:48:48.185220Z"
    }
   },
   "outputs": [],
   "source": [
    "min_spectra_values = np.array(min_spectra_values)"
   ]
  },
  {
   "cell_type": "code",
   "execution_count": 20,
   "metadata": {
    "ExecuteTime": {
     "end_time": "2020-07-31T15:52:51.924842Z",
     "start_time": "2020-07-31T15:52:51.902565Z"
    }
   },
   "outputs": [
    {
     "data": {
      "text/plain": [
       "-1.7350152909690405e-15"
      ]
     },
     "execution_count": 20,
     "metadata": {},
     "output_type": "execute_result"
    }
   ],
   "source": [
    "np.percentile(min_spectra_values, 0.1)"
   ]
  },
  {
   "cell_type": "code",
   "execution_count": 21,
   "metadata": {
    "ExecuteTime": {
     "end_time": "2020-07-31T15:52:59.790679Z",
     "start_time": "2020-07-31T15:52:59.768432Z"
    }
   },
   "outputs": [
    {
     "data": {
      "text/plain": [
       "-4.322355765985711e-18"
      ]
     },
     "execution_count": 21,
     "metadata": {},
     "output_type": "execute_result"
    }
   ],
   "source": [
    "np.percentile(min_spectra_values, 99.9)"
   ]
  },
  {
   "cell_type": "code",
   "execution_count": 16,
   "metadata": {
    "ExecuteTime": {
     "end_time": "2020-07-31T15:50:38.901603Z",
     "start_time": "2020-07-31T15:50:35.322141Z"
    }
   },
   "outputs": [],
   "source": [
    "max_spectra_values = np.array(max_spectra_values)"
   ]
  },
  {
   "cell_type": "code",
   "execution_count": 22,
   "metadata": {
    "ExecuteTime": {
     "end_time": "2020-07-31T15:53:15.019950Z",
     "start_time": "2020-07-31T15:53:15.001090Z"
    }
   },
   "outputs": [
    {
     "data": {
      "text/plain": [
       "1.3739437086449883e-15"
      ]
     },
     "execution_count": 22,
     "metadata": {},
     "output_type": "execute_result"
    }
   ],
   "source": [
    "np.percentile(max_spectra_values, 99.9)"
   ]
  },
  {
   "cell_type": "code",
   "execution_count": 23,
   "metadata": {
    "ExecuteTime": {
     "end_time": "2020-07-31T15:53:35.342890Z",
     "start_time": "2020-07-31T15:53:35.318375Z"
    }
   },
   "outputs": [
    {
     "data": {
      "text/plain": [
       "4.482036389111347e-18"
      ]
     },
     "execution_count": 23,
     "metadata": {},
     "output_type": "execute_result"
    }
   ],
   "source": [
    "np.percentile(max_spectra_values, 0.1)"
   ]
  },
  {
   "cell_type": "code",
   "execution_count": 24,
   "metadata": {
    "ExecuteTime": {
     "end_time": "2020-07-31T15:53:50.279589Z",
     "start_time": "2020-07-31T15:53:50.258873Z"
    }
   },
   "outputs": [
    {
     "data": {
      "text/plain": [
       "-2.5850769465020807e-17"
      ]
     },
     "execution_count": 24,
     "metadata": {},
     "output_type": "execute_result"
    }
   ],
   "source": [
    "np.percentile(min_spectra_values, 50)"
   ]
  },
  {
   "cell_type": "code",
   "execution_count": 25,
   "metadata": {
    "ExecuteTime": {
     "end_time": "2020-07-31T15:54:00.254311Z",
     "start_time": "2020-07-31T15:54:00.227724Z"
    }
   },
   "outputs": [
    {
     "data": {
      "text/plain": [
       "4.8697077301730175e-17"
      ]
     },
     "execution_count": 25,
     "metadata": {},
     "output_type": "execute_result"
    }
   ],
   "source": [
    "np.percentile(max_spectra_values, 50)"
   ]
  },
  {
   "cell_type": "markdown",
   "metadata": {},
   "source": [
    "### Rescale spectrum and continuum values"
   ]
  },
  {
   "cell_type": "code",
   "execution_count": 7,
   "metadata": {
    "ExecuteTime": {
     "end_time": "2020-08-12T18:02:56.129949Z",
     "start_time": "2020-08-12T18:02:56.126791Z"
    }
   },
   "outputs": [],
   "source": [
    "RESCALE: float = 1.0E17"
   ]
  },
  {
   "cell_type": "code",
   "execution_count": 8,
   "metadata": {
    "ExecuteTime": {
     "end_time": "2020-08-12T18:02:56.728654Z",
     "start_time": "2020-08-12T18:02:56.724069Z"
    }
   },
   "outputs": [],
   "source": [
    "@udf(ArrayType(DoubleType()))\n",
    "def rescale(spectrum: ArrayType(DoubleType())) -> ArrayType(DoubleType()):\n",
    "    return [x*RESCALE if x else 0.0 for x in spectrum]"
   ]
  },
  {
   "cell_type": "code",
   "execution_count": 9,
   "metadata": {
    "ExecuteTime": {
     "end_time": "2020-08-12T18:02:59.168778Z",
     "start_time": "2020-08-12T18:02:59.058253Z"
    }
   },
   "outputs": [],
   "source": [
    "spectra_rescaled: DataFrame = df\\\n",
    "    .withColumn('spectrum', rescale(col('spectrum')))\\\n",
    "    .withColumn('continuum', rescale(col('continuum')))"
   ]
  },
  {
   "cell_type": "code",
   "execution_count": 10,
   "metadata": {
    "ExecuteTime": {
     "end_time": "2020-08-12T18:03:06.224610Z",
     "start_time": "2020-08-12T18:03:01.702739Z"
    }
   },
   "outputs": [
    {
     "data": {
      "text/plain": [
       "[<matplotlib.lines.Line2D at 0x7f85dd5c4820>]"
      ]
     },
     "execution_count": 10,
     "metadata": {},
     "output_type": "execute_result"
    },
    {
     "data": {
      "image/png": "[encoded data removed]",
      "text/plain": [
       "<Figure size 432x288 with 1 Axes>"
      ]
     },
     "metadata": {
      "needs_background": "light"
     },
     "output_type": "display_data"
    }
   ],
   "source": [
    "plt.plot(spectra_rescaled.head(1)[0].spectrum)"
   ]
  },
  {
   "cell_type": "code",
   "execution_count": 11,
   "metadata": {
    "ExecuteTime": {
     "end_time": "2020-08-12T18:03:16.521494Z",
     "start_time": "2020-08-12T18:03:15.842969Z"
    }
   },
   "outputs": [
    {
     "data": {
      "text/plain": [
       "[<matplotlib.lines.Line2D at 0x7f85dd5258b0>]"
      ]
     },
     "execution_count": 11,
     "metadata": {},
     "output_type": "execute_result"
    },
    {
     "data": {
      "image/png": "[encoded data removed]",
      "text/plain": [
       "<Figure size 432x288 with 1 Axes>"
      ]
     },
     "metadata": {
      "needs_background": "light"
     },
     "output_type": "display_data"
    }
   ],
   "source": [
    "plt.plot(spectra_rescaled.head(1)[0].continuum)"
   ]
  },
  {
   "cell_type": "code",
   "execution_count": 12,
   "metadata": {
    "ExecuteTime": {
     "end_time": "2020-08-12T18:45:49.394115Z",
     "start_time": "2020-08-12T18:03:24.168730Z"
    }
   },
   "outputs": [],
   "source": [
    "spectra_rescaled.write.parquet(f'{DATA_PATH}/spectra_rescaled.parquet')"
   ]
  },
  {
   "cell_type": "markdown",
   "metadata": {},
   "source": [
    "### Spectrum vector feature"
   ]
  },
  {
   "cell_type": "code",
   "execution_count": 5,
   "metadata": {
    "ExecuteTime": {
     "end_time": "2020-08-13T10:58:47.688139Z",
     "start_time": "2020-08-13T10:58:44.987550Z"
    }
   },
   "outputs": [],
   "source": [
    "spectra_rescaled: DataFrame = spark.read.parquet(f'{DATA_PATH}/spectra_rescaled.parquet').cache()"
   ]
  },
  {
   "cell_type": "markdown",
   "metadata": {},
   "source": [
    "Explode an array column into many columns."
   ]
  },
  {
   "cell_type": "code",
   "execution_count": 9,
   "metadata": {
    "ExecuteTime": {
     "end_time": "2020-08-13T11:26:22.860525Z",
     "start_time": "2020-08-13T11:26:20.716540Z"
    }
   },
   "outputs": [],
   "source": [
    "SPECTRUM_SIZE: int = 4096\n",
    "SPECTRUM_COLUMNS: List[Column] = list(map(lambda i: spectra_rescaled.spectrum[i], list(range(0, SPECTRUM_SIZE))))\n",
    "SPECTRUM_COLUMN_NAMES: List[str] = list(map(lambda i: f'spectrum[{i}]', list(range(0, SPECTRUM_SIZE))))"
   ]
  },
  {
   "cell_type": "code",
   "execution_count": 10,
   "metadata": {
    "ExecuteTime": {
     "end_time": "2020-08-13T11:26:24.748645Z",
     "start_time": "2020-08-13T11:26:23.616006Z"
    }
   },
   "outputs": [],
   "source": [
    "spectra: DataFrame = spectra_rescaled.select(SPECTRUM_COLUMNS)"
   ]
  },
  {
   "cell_type": "markdown",
   "metadata": {},
   "source": [
    "Construct a vector using VectorAssembler."
   ]
  },
  {
   "cell_type": "code",
   "execution_count": 11,
   "metadata": {
    "ExecuteTime": {
     "end_time": "2020-08-13T11:26:26.926334Z",
     "start_time": "2020-08-13T11:26:26.894777Z"
    }
   },
   "outputs": [
    {
     "data": {
      "text/plain": [
       "VectorAssembler_82bb05ab1016"
      ]
     },
     "execution_count": 11,
     "metadata": {},
     "output_type": "execute_result"
    }
   ],
   "source": [
    "vecAssembler: VectorAssembler = VectorAssembler(outputCol='features')\n",
    "vecAssembler.setInputCols(SPECTRUM_COLUMN_NAMES)"
   ]
  },
  {
   "cell_type": "code",
   "execution_count": 12,
   "metadata": {
    "ExecuteTime": {
     "end_time": "2020-08-13T11:26:31.143837Z",
     "start_time": "2020-08-13T11:26:28.191855Z"
    }
   },
   "outputs": [],
   "source": [
    "vectorized_spectra = vecAssembler.transform(spectra).select('features')"
   ]
  },
  {
   "cell_type": "code",
   "execution_count": 13,
   "metadata": {
    "ExecuteTime": {
     "end_time": "2020-08-13T11:38:42.436805Z",
     "start_time": "2020-08-13T11:26:34.299332Z"
    }
   },
   "outputs": [],
   "source": [
    "vectorized_spectra.write.parquet(f'{DATA_PATH}/vectorized_spectra.parquet')"
   ]
  },
  {
   "cell_type": "markdown",
   "metadata": {},
   "source": [
    "## Simple clustering"
   ]
  },
  {
   "cell_type": "markdown",
   "metadata": {},
   "source": [
    "### Bisecting KMeans"
   ]
  },
  {
   "cell_type": "code",
   "execution_count": 38,
   "metadata": {
    "ExecuteTime": {
     "end_time": "2020-08-12T18:54:31.055797Z",
     "start_time": "2020-08-12T18:54:31.032424Z"
    }
   },
   "outputs": [
    {
     "data": {
      "text/plain": [
       "BisectingKMeans_783c1c00eaea"
      ]
     },
     "execution_count": 38,
     "metadata": {},
     "output_type": "execute_result"
    }
   ],
   "source": [
    "bkm = BisectingKMeans(k=2)\n",
    "bkm.setMaxIter(10)"
   ]
  },
  {
   "cell_type": "code",
   "execution_count": 39,
   "metadata": {
    "ExecuteTime": {
     "end_time": "2020-08-12T18:54:31.960732Z",
     "start_time": "2020-08-12T18:54:31.887812Z"
    }
   },
   "outputs": [
    {
     "data": {
      "text/plain": [
       "[('features', 'vector')]"
      ]
     },
     "execution_count": 39,
     "metadata": {},
     "output_type": "execute_result"
    }
   ],
   "source": [
    "vectorized_spectra.dtypes"
   ]
  },
  {
   "cell_type": "code",
   "execution_count": 40,
   "metadata": {
    "ExecuteTime": {
     "end_time": "2020-08-12T19:37:47.118155Z",
     "start_time": "2020-08-12T18:54:32.778471Z"
    }
   },
   "outputs": [],
   "source": [
    "bkm_model = bkm.fit(vectorized_spectra)"
   ]
  },
  {
   "cell_type": "code",
   "execution_count": 42,
   "metadata": {
    "ExecuteTime": {
     "end_time": "2020-08-12T20:09:02.255072Z",
     "start_time": "2020-08-12T20:09:02.198996Z"
    }
   },
   "outputs": [],
   "source": [
    "predictions = bkm_model.transform(vectorized_spectra)"
   ]
  },
  {
   "cell_type": "code",
   "execution_count": 44,
   "metadata": {
    "ExecuteTime": {
     "end_time": "2020-08-12T20:10:03.631273Z",
     "start_time": "2020-08-12T20:10:03.609029Z"
    }
   },
   "outputs": [],
   "source": [
    "evalutator = ClusteringEvaluator()"
   ]
  },
  {
   "cell_type": "code",
   "execution_count": 45,
   "metadata": {
    "ExecuteTime": {
     "end_time": "2020-08-12T20:30:21.845858Z",
     "start_time": "2020-08-12T20:10:15.377466Z"
    }
   },
   "outputs": [],
   "source": [
    "silhouette = evalutator.evaluate(predictions)"
   ]
  },
  {
   "cell_type": "code",
   "execution_count": null,
   "metadata": {
    "ExecuteTime": {
     "start_time": "2020-08-12T20:33:39.916Z"
    }
   },
   "outputs": [],
   "source": [
    "bkm_model.save(f'{DATA_PATH}/bkm_model_1.0.0')"
   ]
  },
  {
   "cell_type": "markdown",
   "metadata": {},
   "source": [
    "-----------------------------------------------------"
   ]
  },
  {
   "cell_type": "code",
   "execution_count": 7,
   "metadata": {
    "ExecuteTime": {
     "end_time": "2020-08-13T11:23:53.279067Z",
     "start_time": "2020-08-13T11:23:52.381184Z"
    }
   },
   "outputs": [],
   "source": [
    "bkm_model = BisectingKMeansModel.load(f'{DATA_PATH}/bkm_model_1.0.0')"
   ]
  },
  {
   "cell_type": "code",
   "execution_count": null,
   "metadata": {},
   "outputs": [],
   "source": []
  }
 ],
 "metadata": {
  "kernelspec": {
   "display_name": "Quasar Analysis (python3.8)",
   "language": "python",
   "name": "quasarenv"
  },
  "language_info": {
   "codemirror_mode": {
    "name": "ipython",
    "version": 3
   },
   "file_extension": ".py",
   "mimetype": "text/x-python",
   "name": "python",
   "nbconvert_exporter": "python",
   "pygments_lexer": "ipython3",
   "version": "3.8.5"
  },
  "latex_envs": {
   "LaTeX_envs_menu_present": true,
   "autoclose": false,
   "autocomplete": true,
   "bibliofile": "biblio.bib",
   "cite_by": "apalike",
   "current_citInitial": 1,
   "eqLabelWithNumbers": true,
   "eqNumInitial": 1,
   "hotkeys": {
    "equation": "Ctrl-E",
    "itemize": "Ctrl-I"
   },
   "labels_anchors": false,
   "latex_user_defs": false,
   "report_style_numbering": false,
   "user_envs_cfg": false
  },
  "toc": {
   "base_numbering": 1,
   "nav_menu": {},
   "number_sections": true,
   "sideBar": true,
   "skip_h1_title": false,
   "title_cell": "Table of Contents",
   "title_sidebar": "Contents",
   "toc_cell": false,
   "toc_position": {},
   "toc_section_display": true,
   "toc_window_display": false
  },
  "varInspector": {
   "cols": {
    "lenName": 16,
    "lenType": 16,
    "lenVar": 40
   },
   "kernels_config": {
    "python": {
     "delete_cmd_postfix": "",
     "delete_cmd_prefix": "del ",
     "library": "var_list.py",
     "varRefreshCmd": "print(var_dic_list())"
    },
    "r": {
     "delete_cmd_postfix": ") ",
     "delete_cmd_prefix": "rm(",
     "library": "var_list.r",
     "varRefreshCmd": "cat(var_dic_list()) "
    }
   },
   "types_to_exclude": [
    "module",
    "function",
    "builtin_function_or_method",
    "instance",
    "_Feature"
   ],
   "window_display": false
  }
 },
 "nbformat": 4,
 "nbformat_minor": 4
}
